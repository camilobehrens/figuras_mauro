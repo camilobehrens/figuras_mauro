{
 "cells": [
  {
   "cell_type": "markdown",
   "id": "34645e86",
   "metadata": {},
   "source": [
    "# 1. NLP I"
   ]
  },
  {
   "cell_type": "markdown",
   "id": "95ea698e",
   "metadata": {},
   "source": [
    "## 1.1 Introducción a Data Science No Tabular y NLP\n",
    "\n",
    "### Data Science No Tabular, sus aplicaciones, y la importancia del procesamiento de lenguaje natural (NLP) en este contexto\n",
    "\n",
    "Data Science No Tabular se refiere al análisis y procesamiento de datos que no están organizados en tablas, como texto, imágenes, audio o video. A diferencia de los datos tabulares, que son fáciles de estructurar y manejar en bases de datos relacionales, los datos no tabulares requieren enfoques más complejos debido a su naturaleza desestructurada o semi-estructurada.\n",
    "\n",
    "\n",
    "### Aplicaciones de Data Science No Tabular\n",
    "\n",
    "* **Análisis de Imágenes y Videos:** en ámbitos como la seguridad, diagnóstico médico o redes sociales, se usan técnicas de machine learning para extraer patrones y conocimiento útil a partir de imágenes y videos.\n",
    "\n",
    "* **Análisis de Texto:** el procesamiento de grandes volumenes de texto (artículos, libros, comentarios en RRSS) para extraer información valiosa, como opiniones, sentimientos o temas recurrentes.\n",
    "\n",
    "* **Reconocimiento de Voz:** conversión de datos de audio en texto, como lo hacen los asistentes virtuales.\n",
    "\n",
    "* **Procesamiento de Documentos:** clasificación y organización de documentos de texto de manera automática, como los sistemas de archivos electrónicos o motores de búsqueda.\n",
    "\n",
    "\n",
    "### Importancia del Procesamiento de Lenguaje Natural (NLP)\n",
    "\n",
    "El procesamiento de lenguaje natural (NLP) es un subconjunto crucial dentro del Data Science No Tabular, ya que permite a las computadoras entender y generar lenguaje humano de forma automática. A través de técnicas avanzadas de machine learning y deep learning, el NLP transforma grandes volúmenes de datos textuales en información útil, ayudando a tareas como la calsificación de textos, análisis de sentimientos, o la extracción de entidades relevantes.\n",
    "\n",
    "* **Conversión Texto-Habla:** aplicaciones como asistentes virtuales utilizan NLP para interpretar comandos hablados y responder de manera coherente.\n",
    "\n",
    "* **Análisis de Sentimientos:** herramientas de análisis de redes sociales utilizan NLP para determinar si los comentarios o publicaciones son positivos negativos o neutros.\n",
    "\n",
    "* **Traducción Automática:** motores de traducción utilizan NLP para ofrecer traducciones entre distintos idiomas de forma eficiente.\n",
    "\n",
    "* **Categorización de Documentos:** NLP ayuda a clasificar automáticamente documentos en diversas categorías, facilitando la búsqueda y recuperación de información.\n",
    "\n",
    "\n",
    "En resumen, el procesamiento de datos no tabulares y el NLP permiten un análisis más completo y profundo de datos no estructurados, ayudando a descubrir patrones y conocimientos valiosos en sectores como la salud, el marketing y la investigación científica."
   ]
  },
  {
   "cell_type": "markdown",
   "id": "a8f28d4c",
   "metadata": {},
   "source": [
    "## 1.2 Conceptos de Bases de Datos No Tabulares\n",
    "\n",
    "### 1. Bases de Datos Relacionales (SQL)\n",
    "\n",
    "Las bases de datos relacionales almacenan información en tablas que se componen de filas y columnas. Utilizan el lenguaje SQL (Structured Query Lenguage) para definir y manipular los datos, ofreciendo integridad entre las tablas.\n",
    "* **Ejemplos:** MySQL, PostgreSQL, Microsoft SQL Server, Oracle.\n",
    "\n",
    "* **Aplicaiones:** estas bases de datos son ampliamente utilizadas en aplicaciones empresariales donde la consistencia y las relaciones entre los datos son importantes, como en sistemas de gestión de inventarios, aplicaciones bancarias, y plataformas de comercio electrónico.\n",
    "\n",
    "\n",
    "### 2. Bases de Datos NoSQL\n",
    "\n",
    "A diferencia de las bases de datos relacionales, las bases de datos NoSQL permiten el almacenamiento de datos en formatos más flexibles como documentos, pares clave-valor o grafos. Son ideales para manejar grandes volúmenes de datos no estructurados o semi-estructurados y son escalables horizontalmente.\n",
    "* **Ejemplo:** MongoDB (documentos), Redis (clave-valor), Cassandra (columnas), Neo4j (grafos).\n",
    "\n",
    "* **Aplicaiones:** se utilizan en aplicaciones que requieren alta escalabilidad y flexibilidad, como en análisis de redes sociales, big data, y aplicaciones de IoT.\n",
    "\n",
    "\n",
    "### 3. Bases de Datos NewSQL\n",
    "\n",
    "NewSQL es una evolución de las bases de datos de SQL tradicionales, diseñada para ofrecer la escalabilidad de NoSQL sin perder la consistencia y transaccionalidad que ofrece eel modelo relacional.\n",
    "* **Ejemplos:** Google Spanner, CockroachDB, VoltDB.\n",
    "\n",
    "* **Aplicaiones:** se utilizan en sistemas que necesitan manejar un gran volumen de transacciones de manera escalable, como en aplicaiones financieras o de comercio digital de alto tráfico.\n",
    "\n",
    "\n",
    "### 4. Bases de Datos Analíticas\n",
    "\n",
    "Estas bases de datos entán optimizadas para consultas y análisis de grandes volúmenes de datos, almacenando datos históricos y transaccionales. Se enfocan en la generación de informes y análisis, en vez de en la manipulación transaccional de datos.\n",
    "* **Ejemplos:** Amazon Redshift, Google BigQuery, Snowflake.\n",
    "\n",
    "* **Aplicaciones:** son utilizadas en sistemas de inteligencia de negocios (BI) para el análisis de ventas, rendimiento financiero, o datos operativos, permitiendo la creación de dashboards y reportes en tiempo real.\n",
    "\n",
    "\n",
    "### Bases de Datos As a Service (DBaaS)\n",
    "\n",
    "Son bases de datos que se ofrecen como un servicio en la nube, eliminando la necesidad de configurar hardware o administrar la infraestructura. Los proveedores se encargan del mantenimiento y escalabilidad.\n",
    "* **Ejemplos:** Amazon RDS, Azure SQL Database, Google Cloud SQL.\n",
    "\n",
    "* **Aplicaciones:** utilizadas por empresas que prefieren delegar la administración de sus bases de datos a un proveedor de servicios en la nube, permitiendo un enfoque en el desarrollo de sus aplicaciones sin preocuparse por la infraestructura subyacente.\n",
    "\n",
    "\n",
    "Estas diferentes categorías de bases de datos ofrecen soluciones específicas dependiendo del tipo de datos y los requisitos de escalabilidad o integridad, permitiendo a las organizaciones elegir la mejor opción para sus necesidades.\n"
   ]
  }
 ],
 "metadata": {
  "language_info": {
   "name": "python"
  }
 },
 "nbformat": 4,
 "nbformat_minor": 5
}
