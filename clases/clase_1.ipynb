{
 "cells": [
  {
   "cell_type": "markdown",
   "id": "34645e86",
   "metadata": {},
   "source": [
    "Hola probando git"
   ]
  }
 ],
 "metadata": {
  "language_info": {
   "name": "python"
  }
 },
 "nbformat": 4,
 "nbformat_minor": 5
}
