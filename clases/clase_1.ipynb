{
 "cells": [
  {
   "cell_type": "markdown",
   "id": "34645e86",
   "metadata": {},
   "source": [
    "# 1. NLP I"
   ]
  },
  {
   "cell_type": "markdown",
   "id": "95ea698e",
   "metadata": {},
   "source": [
    "## 1.1 Introducción a Data Science No Tabular y NLP\n",
    "\n",
    "### Data Science No Tabular, sus aplicaciones, y la importancia del procesamiento de lenguaje natural (NLP) en este contexto\n",
    "\n",
    "Data Science No Tabular se refiere al análisis y procesamiento de datos que no están organizados en tablas, como texto, imágenes, audio o video. A diferencia de los datos tabulares, que son fáciles de estructurar y manejar en bases de datos relacionales, los datos no tabulares requieren enfoques más complejos debido a su naturaleza desestructurada o semi-estructurada.\n",
    "\n",
    "\n",
    "### Aplicaciones de Data Science No Tabular\n",
    "\n",
    "* **Análisis de Imágenes y Videos:** en ámbitos como la seguridad, diagnóstico médico o redes sociales, se usan técnicas de machine learning para extraer patrones y conocimiento útil a partir de imágenes y videos.\n",
    "\n",
    "* **Análisis de Texto:** el procesamiento de grandes volumenes de texto (artículos, libros, comentarios en RRSS) para extraer información valiosa, como opiniones, sentimientos o temas recurrentes.\n",
    "\n",
    "* **Reconocimiento de Voz:** conversión de datos de audio en texto, como lo hacen los asistentes virtuales.\n",
    "\n",
    "* **Procesamiento de Documentos:** clasificación y organización de documentos de texto de manera automática, como los sistemas de archivos electrónicos o motores de búsqueda.\n",
    "\n",
    "\n",
    "### Importancia del Procesamiento de Lenguaje Natural (NLP)\n",
    "\n",
    "El procesamiento de lenguaje natural (NLP) es un subconjunto crucial dentro del Data Science No Tabular, ya que permite a las computadoras entender y generar lenguaje humano de forma automática. A través de técnicas avanzadas de machine learning y deep learning, el NLP transforma grandes volúmenes de datos textuales en información útil, ayudando a tareas como la calsificación de textos, análisis de sentimientos, o la extracción de entidades relevantes.\n",
    "\n",
    "* **Conversión Texto-Habla:** aplicaciones como asistentes virtuales utilizan NLP para interpretar comandos hablados y responder de manera coherente.\n",
    "\n",
    "* **Análisis de Sentimientos:** herramientas de análisis de redes sociales utilizan NLP para determinar si los comentarios o publicaciones son positivos negativos o neutros.\n",
    "\n",
    "* **Traducción Automática:** motores de traducción utilizan NLP para ofrecer traducciones entre distintos idiomas de forma eficiente.\n",
    "\n",
    "* **Categorización de Documentos:** NLP ayuda a clasificar automáticamente documentos en diversas categorías, facilitando la búsqueda y recuperación de información.\n",
    "\n",
    "\n",
    "En resumen, el procesamiento de datos no tabulares y el NLP permiten un análisis más completo y profundo de datos no estructurados, ayudando a descubrir patrones y conocimientos valiosos en sectores como la salud, el marketing y la investigación científica."
   ]
  }
 ],
 "metadata": {
  "language_info": {
   "name": "python"
  }
 },
 "nbformat": 4,
 "nbformat_minor": 5
}
