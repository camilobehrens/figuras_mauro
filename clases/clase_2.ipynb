{
 "cells": [
  {
   "cell_type": "markdown",
   "id": "1806b428",
   "metadata": {},
   "source": [
    "# 2. NLP ll"
   ]
  },
  {
   "cell_type": "markdown",
   "id": "fdb74f39",
   "metadata": {},
   "source": [
    "## 2.1 NLP y sus Aplicaciones \n",
    "\n",
    "### Procesamiento de Lenguaje Natural (NLP) \n",
    "El procesamiento de Lenguaje Natural (NLP, por sus siglas en inglés) es un campo dentro de la inteligencia artificial que permite a las máquinas interpretar, entender y generar lenguaje humano. En la ciencia de datos, NLP es una herramienta poderosa, especialmente cuando se trata de trabajar con grandes cantidades de datos textuales no estructurados, como reseñas de productos, comentarios en redes sociales o correos electrónicos. \n",
    "\n",
    "### Aplicaciones de NLP \n",
    "\n",
    "* Análisis de Sentimientos \n",
    "\n",
    "* Chatbots y Asistentes Virtuales \n",
    "\n",
    "* Resumen Automático de Textos \n",
    "\n",
    "* Clasificación de Texto \n",
    "\n",
    "### Relevancia en la Ciencia de Datos \n",
    "En el campo de la ciencia de datos, el NLP es fundamental porque permite extraer información valiosa de los datos textuales, que suelen ser difíciles de analizar utilizando métodos estadísticos tradicionales. Además, su integración con librerías y técnicas de machine learning permite que el análisis sea automatizado y escala.\n",
    " "
   ]
  },
  {
   "cell_type": "markdown",
   "id": "940a91e9",
   "metadata": {},
   "source": []
  }
 ],
 "metadata": {
  "kernelspec": {
   "display_name": "entorno1",
   "language": "python",
   "name": "python3"
  },
  "language_info": {
   "name": "python",
   "version": "3.12.3"
  }
 },
 "nbformat": 4,
 "nbformat_minor": 5
}
