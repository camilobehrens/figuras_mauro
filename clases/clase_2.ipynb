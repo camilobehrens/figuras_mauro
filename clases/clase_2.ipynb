{
 "cells": [
  {
   "cell_type": "markdown",
   "id": "1806b428",
   "metadata": {},
   "source": [
    "# NLP ll"
   ]
  },
  {
   "cell_type": "markdown",
   "id": "fdb74f39",
   "metadata": {},
   "source": []
  }
 ],
 "metadata": {
  "language_info": {
   "name": "python"
  }
 },
 "nbformat": 4,
 "nbformat_minor": 5
}
