{
 "cells": [
  {
   "cell_type": "markdown",
   "id": "1806b428",
   "metadata": {},
   "source": [
    "# 2. NLP ll"
   ]
  },
  {
   "cell_type": "markdown",
   "id": "fdb74f39",
   "metadata": {},
   "source": [
<<<<<<< HEAD
=======
    " \n",
    "\n",
>>>>>>> defd448 (sincro clase 2)
    "## 2.1 NLP y sus Aplicaciones \n",
    "\n",
    "### Procesamiento de Lenguaje Natural (NLP) \n",
    "El procesamiento de Lenguaje Natural (NLP, por sus siglas en inglés) es un campo dentro de la inteligencia artificial que permite a las máquinas interpretar, entender y generar lenguaje humano. En la ciencia de datos, NLP es una herramienta poderosa, especialmente cuando se trata de trabajar con grandes cantidades de datos textuales no estructurados, como reseñas de productos, comentarios en redes sociales o correos electrónicos. \n",
    "\n",
<<<<<<< HEAD
    "### Aplicaciones de NLP \n",
    "\n",
=======
    "### Aplicaciones de NLP  \n",
>>>>>>> defd448 (sincro clase 2)
    "* Análisis de Sentimientos \n",
    "\n",
    "* Chatbots y Asistentes Virtuales \n",
    "\n",
    "* Resumen Automático de Textos \n",
    "\n",
    "* Clasificación de Texto \n",
    "\n",
    "### Relevancia en la Ciencia de Datos \n",
<<<<<<< HEAD
    "En el campo de la ciencia de datos, el NLP es fundamental porque permite extraer información valiosa de los datos textuales, que suelen ser difíciles de analizar utilizando métodos estadísticos tradicionales. Además, su integración con librerías y técnicas de machine learning permite que el análisis sea automatizado y escala.\n",
    " "
=======
    "En el campo de la ciencia de datos, el NLP es fundamental porque permite extraer información valiosa de los datos textuales, que suelen ser difíciles de analizar utilizando métodos estadísticos tradicionales. Además, su integración con librerias y técnicas de ML permite que el análisis sea automatizado y escalable. "
>>>>>>> defd448 (sincro clase 2)
   ]
  },
  {
   "cell_type": "markdown",
<<<<<<< HEAD
   "id": "940a91e9",
   "metadata": {},
   "source": []
=======
   "id": "f189b216",
   "metadata": {},
   "source": [
    "# 2.2 Librerías Principales en NLP – spaCy \n",
    "\n",
    "## Introducción a spaCy\n",
    "spaCy es una librería gratuita y de código abierto diseñada para el procesamiento natural en Python. Es una herramienta potente que permite el manejo de grandes volúmenes de texto"
   ]
>>>>>>> defd448 (sincro clase 2)
  }
 ],
 "metadata": {
  "kernelspec": {
   "display_name": "entorno1",
   "language": "python",
   "name": "python3"
  },
  "language_info": {
   "name": "python",
   "version": "3.12.3"
  }
 },
 "nbformat": 4,
 "nbformat_minor": 5
}
