{
 "cells": [
  {
   "cell_type": "code",
   "execution_count": 22,
   "id": "25b5b67e",
   "metadata": {},
   "outputs": [
    {
     "data": {
      "text/html": [
       "<div>\n",
       "<style scoped>\n",
       "    .dataframe tbody tr th:only-of-type {\n",
       "        vertical-align: middle;\n",
       "    }\n",
       "\n",
       "    .dataframe tbody tr th {\n",
       "        vertical-align: top;\n",
       "    }\n",
       "\n",
       "    .dataframe thead th {\n",
       "        text-align: right;\n",
       "    }\n",
       "</style>\n",
       "<table border=\"1\" class=\"dataframe\">\n",
       "  <thead>\n",
       "    <tr style=\"text-align: right;\">\n",
       "      <th></th>\n",
       "      <th>id</th>\n",
       "      <th>recording</th>\n",
       "      <th>site</th>\n",
       "      <th>year</th>\n",
       "      <th>month</th>\n",
       "      <th>day</th>\n",
       "      <th>hour</th>\n",
       "      <th>minute</th>\n",
       "      <th>species</th>\n",
       "      <th>songtype</th>\n",
       "      <th>...</th>\n",
       "      <th>x2</th>\n",
       "      <th>y1</th>\n",
       "      <th>y2</th>\n",
       "      <th>frequency</th>\n",
       "      <th>validated</th>\n",
       "      <th>url</th>\n",
       "      <th>score</th>\n",
       "      <th>site_id</th>\n",
       "      <th>presencia</th>\n",
       "      <th>datetime</th>\n",
       "    </tr>\n",
       "  </thead>\n",
       "  <tbody>\n",
       "    <tr>\n",
       "      <th>0</th>\n",
       "      <td>627470889</td>\n",
       "      <td>SMM09557_20231009_185000.wav</td>\n",
       "      <td>P04_SMM09557</td>\n",
       "      <td>2023</td>\n",
       "      <td>10</td>\n",
       "      <td>9</td>\n",
       "      <td>18</td>\n",
       "      <td>50</td>\n",
       "      <td>Theristicus melanopis</td>\n",
       "      <td>Common Song</td>\n",
       "      <td>...</td>\n",
       "      <td>25.461333</td>\n",
       "      <td>796.875</td>\n",
       "      <td>2390.625</td>\n",
       "      <td>12000</td>\n",
       "      <td>present</td>\n",
       "      <td>https://rfcx-streams-production.s3.eu-west-1.a...</td>\n",
       "      <td>0.308460</td>\n",
       "      <td>48814</td>\n",
       "      <td>1</td>\n",
       "      <td>2023-10-09 18:50:00</td>\n",
       "    </tr>\n",
       "    <tr>\n",
       "      <th>1</th>\n",
       "      <td>627472690</td>\n",
       "      <td>SMM09721_20231003_111000.wav</td>\n",
       "      <td>P01_SMM09721</td>\n",
       "      <td>2023</td>\n",
       "      <td>10</td>\n",
       "      <td>3</td>\n",
       "      <td>11</td>\n",
       "      <td>10</td>\n",
       "      <td>Theristicus melanopis</td>\n",
       "      <td>Common Song</td>\n",
       "      <td>...</td>\n",
       "      <td>45.056000</td>\n",
       "      <td>796.875</td>\n",
       "      <td>2390.625</td>\n",
       "      <td>12000</td>\n",
       "      <td>present</td>\n",
       "      <td>https://rfcx-streams-production.s3.eu-west-1.a...</td>\n",
       "      <td>0.441862</td>\n",
       "      <td>48806</td>\n",
       "      <td>1</td>\n",
       "      <td>2023-10-03 11:10:00</td>\n",
       "    </tr>\n",
       "    <tr>\n",
       "      <th>2</th>\n",
       "      <td>627472802</td>\n",
       "      <td>SMM09499_20230929_195500.wav</td>\n",
       "      <td>P03_SMM09499</td>\n",
       "      <td>2023</td>\n",
       "      <td>9</td>\n",
       "      <td>29</td>\n",
       "      <td>19</td>\n",
       "      <td>55</td>\n",
       "      <td>Theristicus melanopis</td>\n",
       "      <td>Common Song</td>\n",
       "      <td>...</td>\n",
       "      <td>17.610667</td>\n",
       "      <td>796.875</td>\n",
       "      <td>2390.625</td>\n",
       "      <td>12000</td>\n",
       "      <td>present</td>\n",
       "      <td>https://rfcx-streams-production.s3.eu-west-1.a...</td>\n",
       "      <td>0.321300</td>\n",
       "      <td>48817</td>\n",
       "      <td>1</td>\n",
       "      <td>2023-09-29 19:55:00</td>\n",
       "    </tr>\n",
       "    <tr>\n",
       "      <th>3</th>\n",
       "      <td>627472819</td>\n",
       "      <td>SMM09261_20230928_160500.wav</td>\n",
       "      <td>P02_SMM09261</td>\n",
       "      <td>2023</td>\n",
       "      <td>9</td>\n",
       "      <td>28</td>\n",
       "      <td>18</td>\n",
       "      <td>5</td>\n",
       "      <td>Theristicus melanopis</td>\n",
       "      <td>Common Song</td>\n",
       "      <td>...</td>\n",
       "      <td>37.034667</td>\n",
       "      <td>796.875</td>\n",
       "      <td>2390.625</td>\n",
       "      <td>12000</td>\n",
       "      <td>present</td>\n",
       "      <td>https://rfcx-streams-production.s3.eu-west-1.a...</td>\n",
       "      <td>0.335424</td>\n",
       "      <td>49108</td>\n",
       "      <td>1</td>\n",
       "      <td>2023-09-28 18:05:00</td>\n",
       "    </tr>\n",
       "    <tr>\n",
       "      <th>4</th>\n",
       "      <td>627472873</td>\n",
       "      <td>SMM09499_20230928_160500.wav</td>\n",
       "      <td>P03_SMM09499</td>\n",
       "      <td>2023</td>\n",
       "      <td>9</td>\n",
       "      <td>28</td>\n",
       "      <td>16</td>\n",
       "      <td>5</td>\n",
       "      <td>Theristicus melanopis</td>\n",
       "      <td>Common Song</td>\n",
       "      <td>...</td>\n",
       "      <td>14.037333</td>\n",
       "      <td>796.875</td>\n",
       "      <td>2390.625</td>\n",
       "      <td>12000</td>\n",
       "      <td>present</td>\n",
       "      <td>https://rfcx-streams-production.s3.eu-west-1.a...</td>\n",
       "      <td>0.366723</td>\n",
       "      <td>48817</td>\n",
       "      <td>1</td>\n",
       "      <td>2023-09-28 16:05:00</td>\n",
       "    </tr>\n",
       "    <tr>\n",
       "      <th>...</th>\n",
       "      <td>...</td>\n",
       "      <td>...</td>\n",
       "      <td>...</td>\n",
       "      <td>...</td>\n",
       "      <td>...</td>\n",
       "      <td>...</td>\n",
       "      <td>...</td>\n",
       "      <td>...</td>\n",
       "      <td>...</td>\n",
       "      <td>...</td>\n",
       "      <td>...</td>\n",
       "      <td>...</td>\n",
       "      <td>...</td>\n",
       "      <td>...</td>\n",
       "      <td>...</td>\n",
       "      <td>...</td>\n",
       "      <td>...</td>\n",
       "      <td>...</td>\n",
       "      <td>...</td>\n",
       "      <td>...</td>\n",
       "      <td>...</td>\n",
       "    </tr>\n",
       "    <tr>\n",
       "      <th>23366</th>\n",
       "      <td>628235012</td>\n",
       "      <td>SMM09360_20231004_072500.wav</td>\n",
       "      <td>P23_SMM09360</td>\n",
       "      <td>2023</td>\n",
       "      <td>10</td>\n",
       "      <td>4</td>\n",
       "      <td>7</td>\n",
       "      <td>25</td>\n",
       "      <td>Turdus falcklandii</td>\n",
       "      <td>Common Song</td>\n",
       "      <td>...</td>\n",
       "      <td>12.736000</td>\n",
       "      <td>1359.375</td>\n",
       "      <td>9140.625</td>\n",
       "      <td>12000</td>\n",
       "      <td>present</td>\n",
       "      <td>https://rfcx-streams-production.s3.eu-west-1.a...</td>\n",
       "      <td>0.633157</td>\n",
       "      <td>48816</td>\n",
       "      <td>1</td>\n",
       "      <td>2023-10-04 07:25:00</td>\n",
       "    </tr>\n",
       "    <tr>\n",
       "      <th>23367</th>\n",
       "      <td>628235013</td>\n",
       "      <td>SMM09360_20231004_151500.wav</td>\n",
       "      <td>P23_SMM09360</td>\n",
       "      <td>2023</td>\n",
       "      <td>10</td>\n",
       "      <td>4</td>\n",
       "      <td>15</td>\n",
       "      <td>15</td>\n",
       "      <td>Turdus falcklandii</td>\n",
       "      <td>Common Song</td>\n",
       "      <td>...</td>\n",
       "      <td>36.650667</td>\n",
       "      <td>1359.375</td>\n",
       "      <td>9140.625</td>\n",
       "      <td>12000</td>\n",
       "      <td>present</td>\n",
       "      <td>https://rfcx-streams-production.s3.eu-west-1.a...</td>\n",
       "      <td>0.687807</td>\n",
       "      <td>48816</td>\n",
       "      <td>1</td>\n",
       "      <td>2023-10-04 15:15:00</td>\n",
       "    </tr>\n",
       "    <tr>\n",
       "      <th>23368</th>\n",
       "      <td>628235014</td>\n",
       "      <td>SMM09360_20231004_070500.wav</td>\n",
       "      <td>P23_SMM09360</td>\n",
       "      <td>2023</td>\n",
       "      <td>10</td>\n",
       "      <td>4</td>\n",
       "      <td>7</td>\n",
       "      <td>5</td>\n",
       "      <td>Turdus falcklandii</td>\n",
       "      <td>Common Song</td>\n",
       "      <td>...</td>\n",
       "      <td>56.448000</td>\n",
       "      <td>1359.375</td>\n",
       "      <td>9140.625</td>\n",
       "      <td>12000</td>\n",
       "      <td>present</td>\n",
       "      <td>https://rfcx-streams-production.s3.eu-west-1.a...</td>\n",
       "      <td>0.696696</td>\n",
       "      <td>48816</td>\n",
       "      <td>1</td>\n",
       "      <td>2023-10-04 07:05:00</td>\n",
       "    </tr>\n",
       "    <tr>\n",
       "      <th>23369</th>\n",
       "      <td>628235015</td>\n",
       "      <td>SMM09360_20231004_071000.wav</td>\n",
       "      <td>P23_SMM09360</td>\n",
       "      <td>2023</td>\n",
       "      <td>10</td>\n",
       "      <td>4</td>\n",
       "      <td>7</td>\n",
       "      <td>10</td>\n",
       "      <td>Turdus falcklandii</td>\n",
       "      <td>Common Song</td>\n",
       "      <td>...</td>\n",
       "      <td>6.560000</td>\n",
       "      <td>1359.375</td>\n",
       "      <td>9140.625</td>\n",
       "      <td>12000</td>\n",
       "      <td>present</td>\n",
       "      <td>https://rfcx-streams-production.s3.eu-west-1.a...</td>\n",
       "      <td>0.628169</td>\n",
       "      <td>48816</td>\n",
       "      <td>1</td>\n",
       "      <td>2023-10-04 07:10:00</td>\n",
       "    </tr>\n",
       "    <tr>\n",
       "      <th>23370</th>\n",
       "      <td>628235016</td>\n",
       "      <td>SMM09360_20231004_124000.wav</td>\n",
       "      <td>P23_SMM09360</td>\n",
       "      <td>2023</td>\n",
       "      <td>10</td>\n",
       "      <td>4</td>\n",
       "      <td>12</td>\n",
       "      <td>40</td>\n",
       "      <td>Turdus falcklandii</td>\n",
       "      <td>Common Song</td>\n",
       "      <td>...</td>\n",
       "      <td>59.509333</td>\n",
       "      <td>1359.375</td>\n",
       "      <td>9140.625</td>\n",
       "      <td>12000</td>\n",
       "      <td>present</td>\n",
       "      <td>https://rfcx-streams-production.s3.eu-west-1.a...</td>\n",
       "      <td>0.637340</td>\n",
       "      <td>48816</td>\n",
       "      <td>1</td>\n",
       "      <td>2023-10-04 12:40:00</td>\n",
       "    </tr>\n",
       "  </tbody>\n",
       "</table>\n",
       "<p>21021 rows × 21 columns</p>\n",
       "</div>"
      ],
      "text/plain": [
       "              id                     recording          site  year  month  \\\n",
       "0      627470889  SMM09557_20231009_185000.wav  P04_SMM09557  2023     10   \n",
       "1      627472690  SMM09721_20231003_111000.wav  P01_SMM09721  2023     10   \n",
       "2      627472802  SMM09499_20230929_195500.wav  P03_SMM09499  2023      9   \n",
       "3      627472819  SMM09261_20230928_160500.wav  P02_SMM09261  2023      9   \n",
       "4      627472873  SMM09499_20230928_160500.wav  P03_SMM09499  2023      9   \n",
       "...          ...                           ...           ...   ...    ...   \n",
       "23366  628235012  SMM09360_20231004_072500.wav  P23_SMM09360  2023     10   \n",
       "23367  628235013  SMM09360_20231004_151500.wav  P23_SMM09360  2023     10   \n",
       "23368  628235014  SMM09360_20231004_070500.wav  P23_SMM09360  2023     10   \n",
       "23369  628235015  SMM09360_20231004_071000.wav  P23_SMM09360  2023     10   \n",
       "23370  628235016  SMM09360_20231004_124000.wav  P23_SMM09360  2023     10   \n",
       "\n",
       "       day  hour  minute                species     songtype  ...         x2  \\\n",
       "0        9    18      50  Theristicus melanopis  Common Song  ...  25.461333   \n",
       "1        3    11      10  Theristicus melanopis  Common Song  ...  45.056000   \n",
       "2       29    19      55  Theristicus melanopis  Common Song  ...  17.610667   \n",
       "3       28    18       5  Theristicus melanopis  Common Song  ...  37.034667   \n",
       "4       28    16       5  Theristicus melanopis  Common Song  ...  14.037333   \n",
       "...    ...   ...     ...                    ...          ...  ...        ...   \n",
       "23366    4     7      25     Turdus falcklandii  Common Song  ...  12.736000   \n",
       "23367    4    15      15     Turdus falcklandii  Common Song  ...  36.650667   \n",
       "23368    4     7       5     Turdus falcklandii  Common Song  ...  56.448000   \n",
       "23369    4     7      10     Turdus falcklandii  Common Song  ...   6.560000   \n",
       "23370    4    12      40     Turdus falcklandii  Common Song  ...  59.509333   \n",
       "\n",
       "             y1        y2  frequency  validated  \\\n",
       "0       796.875  2390.625      12000    present   \n",
       "1       796.875  2390.625      12000    present   \n",
       "2       796.875  2390.625      12000    present   \n",
       "3       796.875  2390.625      12000    present   \n",
       "4       796.875  2390.625      12000    present   \n",
       "...         ...       ...        ...        ...   \n",
       "23366  1359.375  9140.625      12000    present   \n",
       "23367  1359.375  9140.625      12000    present   \n",
       "23368  1359.375  9140.625      12000    present   \n",
       "23369  1359.375  9140.625      12000    present   \n",
       "23370  1359.375  9140.625      12000    present   \n",
       "\n",
       "                                                     url     score  site_id  \\\n",
       "0      https://rfcx-streams-production.s3.eu-west-1.a...  0.308460    48814   \n",
       "1      https://rfcx-streams-production.s3.eu-west-1.a...  0.441862    48806   \n",
       "2      https://rfcx-streams-production.s3.eu-west-1.a...  0.321300    48817   \n",
       "3      https://rfcx-streams-production.s3.eu-west-1.a...  0.335424    49108   \n",
       "4      https://rfcx-streams-production.s3.eu-west-1.a...  0.366723    48817   \n",
       "...                                                  ...       ...      ...   \n",
       "23366  https://rfcx-streams-production.s3.eu-west-1.a...  0.633157    48816   \n",
       "23367  https://rfcx-streams-production.s3.eu-west-1.a...  0.687807    48816   \n",
       "23368  https://rfcx-streams-production.s3.eu-west-1.a...  0.696696    48816   \n",
       "23369  https://rfcx-streams-production.s3.eu-west-1.a...  0.628169    48816   \n",
       "23370  https://rfcx-streams-production.s3.eu-west-1.a...  0.637340    48816   \n",
       "\n",
       "       presencia             datetime  \n",
       "0              1  2023-10-09 18:50:00  \n",
       "1              1  2023-10-03 11:10:00  \n",
       "2              1  2023-09-29 19:55:00  \n",
       "3              1  2023-09-28 18:05:00  \n",
       "4              1  2023-09-28 16:05:00  \n",
       "...          ...                  ...  \n",
       "23366          1  2023-10-04 07:25:00  \n",
       "23367          1  2023-10-04 15:15:00  \n",
       "23368          1  2023-10-04 07:05:00  \n",
       "23369          1  2023-10-04 07:10:00  \n",
       "23370          1  2023-10-04 12:40:00  \n",
       "\n",
       "[21021 rows x 21 columns]"
      ]
     },
     "execution_count": 22,
     "metadata": {},
     "output_type": "execute_result"
    }
   ],
   "source": [
    "import pandas as pd\n",
    "detecciones_csv = '/home/camilo/data-science-lll/figuras_mauro/detecciones.csv'\n",
    "df = pd.read_csv(detecciones_csv)\n",
    "df = df[~df['site'].isin(['P.1078_SMM09333', 'P.209_SMM09576'])]\n",
    "df['site'] = df['site'].str.replace('-', '_', regex=False)\n",
    "df"
   ]
  },
  {
   "cell_type": "code",
   "execution_count": 11,
   "id": "cf45b800",
   "metadata": {},
   "outputs": [
    {
     "data": {
      "application/vnd.jupyter.widget-view+json": {
       "model_id": "18ddd8f3d2014253859d732c886c2182",
       "version_major": 2,
       "version_minor": 0
      },
      "text/plain": [
       "                                             |          | [  0%]   00:00 -> (? left)"
      ]
     },
     "metadata": {},
     "output_type": "display_data"
    },
    {
     "name": "stdout",
     "output_type": "stream",
     "text": [
      "Report resumen_detecciones.html was generated! NOTEBOOK/COLAB USERS: the web browser MAY not pop up, regardless, the report IS saved in your notebook/colab files.\n"
     ]
    }
   ],
   "source": [
    "import sweetviz as sv   \n",
    "\n",
    "report = sv.analyze(df)\n",
    "\n",
    "report.show_html('resumen_detecciones.html')"
   ]
  },
  {
   "cell_type": "code",
   "execution_count": 23,
   "id": "89cf5925",
   "metadata": {},
   "outputs": [
    {
     "data": {
      "text/html": [
       "<div>\n",
       "<style scoped>\n",
       "    .dataframe tbody tr th:only-of-type {\n",
       "        vertical-align: middle;\n",
       "    }\n",
       "\n",
       "    .dataframe tbody tr th {\n",
       "        vertical-align: top;\n",
       "    }\n",
       "\n",
       "    .dataframe thead th {\n",
       "        text-align: right;\n",
       "    }\n",
       "</style>\n",
       "<table border=\"1\" class=\"dataframe\">\n",
       "  <thead>\n",
       "    <tr style=\"text-align: right;\">\n",
       "      <th></th>\n",
       "      <th>datetime_5min</th>\n",
       "      <th>site</th>\n",
       "      <th>species_count</th>\n",
       "    </tr>\n",
       "  </thead>\n",
       "  <tbody>\n",
       "    <tr>\n",
       "      <th>0</th>\n",
       "      <td>2023-09-28 00:00:00</td>\n",
       "      <td>P04_SMM09557</td>\n",
       "      <td>0</td>\n",
       "    </tr>\n",
       "    <tr>\n",
       "      <th>1</th>\n",
       "      <td>2023-09-28 00:00:00</td>\n",
       "      <td>P01_SMM09721</td>\n",
       "      <td>0</td>\n",
       "    </tr>\n",
       "    <tr>\n",
       "      <th>2</th>\n",
       "      <td>2023-09-28 00:00:00</td>\n",
       "      <td>P03_SMM09499</td>\n",
       "      <td>0</td>\n",
       "    </tr>\n",
       "    <tr>\n",
       "      <th>3</th>\n",
       "      <td>2023-09-28 00:00:00</td>\n",
       "      <td>P02_SMM09261</td>\n",
       "      <td>0</td>\n",
       "    </tr>\n",
       "    <tr>\n",
       "      <th>4</th>\n",
       "      <td>2023-09-28 00:00:00</td>\n",
       "      <td>P13_SMM09539</td>\n",
       "      <td>0</td>\n",
       "    </tr>\n",
       "    <tr>\n",
       "      <th>...</th>\n",
       "      <td>...</td>\n",
       "      <td>...</td>\n",
       "      <td>...</td>\n",
       "    </tr>\n",
       "    <tr>\n",
       "      <th>96763</th>\n",
       "      <td>2023-10-13 23:55:00</td>\n",
       "      <td>P35_SMM09330</td>\n",
       "      <td>0</td>\n",
       "    </tr>\n",
       "    <tr>\n",
       "      <th>96764</th>\n",
       "      <td>2023-10-13 23:55:00</td>\n",
       "      <td>P37_SMM09595</td>\n",
       "      <td>0</td>\n",
       "    </tr>\n",
       "    <tr>\n",
       "      <th>96765</th>\n",
       "      <td>2023-10-13 23:55:00</td>\n",
       "      <td>P41_SMM09350</td>\n",
       "      <td>0</td>\n",
       "    </tr>\n",
       "    <tr>\n",
       "      <th>96766</th>\n",
       "      <td>2023-10-13 23:55:00</td>\n",
       "      <td>P34_SMM09565</td>\n",
       "      <td>0</td>\n",
       "    </tr>\n",
       "    <tr>\n",
       "      <th>96767</th>\n",
       "      <td>2023-10-13 23:55:00</td>\n",
       "      <td>P36_SMM09520</td>\n",
       "      <td>0</td>\n",
       "    </tr>\n",
       "  </tbody>\n",
       "</table>\n",
       "<p>96768 rows × 3 columns</p>\n",
       "</div>"
      ],
      "text/plain": [
       "             datetime_5min          site  species_count\n",
       "0      2023-09-28 00:00:00  P04_SMM09557              0\n",
       "1      2023-09-28 00:00:00  P01_SMM09721              0\n",
       "2      2023-09-28 00:00:00  P03_SMM09499              0\n",
       "3      2023-09-28 00:00:00  P02_SMM09261              0\n",
       "4      2023-09-28 00:00:00  P13_SMM09539              0\n",
       "...                    ...           ...            ...\n",
       "96763  2023-10-13 23:55:00  P35_SMM09330              0\n",
       "96764  2023-10-13 23:55:00  P37_SMM09595              0\n",
       "96765  2023-10-13 23:55:00  P41_SMM09350              0\n",
       "96766  2023-10-13 23:55:00  P34_SMM09565              0\n",
       "96767  2023-10-13 23:55:00  P36_SMM09520              0\n",
       "\n",
       "[96768 rows x 3 columns]"
      ]
     },
     "execution_count": 23,
     "metadata": {},
     "output_type": "execute_result"
    }
   ],
   "source": [
    "riqueza_csv = '/home/camilo/data-science-lll/figuras_mauro/riqueza_especies.csv'\n",
    "df2 = pd.read_csv(riqueza_csv)\n",
    "df2 = df2[~df2['site'].isin(['P.1078_SMM09333', 'P.209_SMM09576'])]\n",
    "df2['site'] = df2['site'].str.replace('-', '_', regex=False)\n",
    "df2"
   ]
  },
  {
   "cell_type": "code",
   "execution_count": 13,
   "id": "b9fd6d27",
   "metadata": {},
   "outputs": [
    {
     "data": {
      "application/vnd.jupyter.widget-view+json": {
       "model_id": "0bc9fc7c82244332b68f2837f15c73da",
       "version_major": 2,
       "version_minor": 0
      },
      "text/plain": [
       "                                             |          | [  0%]   00:00 -> (? left)"
      ]
     },
     "metadata": {},
     "output_type": "display_data"
    },
    {
     "name": "stdout",
     "output_type": "stream",
     "text": [
      "Report resumen_riqueza.html was generated! NOTEBOOK/COLAB USERS: the web browser MAY not pop up, regardless, the report IS saved in your notebook/colab files.\n"
     ]
    }
   ],
   "source": [
    "import sweetviz as sv   \n",
    "\n",
    "report = sv.analyze(df2)\n",
    "\n",
    "report.show_html('resumen_riqueza.html')"
   ]
  },
  {
   "cell_type": "markdown",
   "id": "7c069c46",
   "metadata": {},
   "source": [
    "## Respecto a las especies\n",
    "\n",
    "Para estos análisis se utilizará el conjunto de datos de detecciones."
   ]
  },
  {
   "cell_type": "code",
   "execution_count": 24,
   "id": "18bda155",
   "metadata": {},
   "outputs": [
    {
     "data": {
      "image/png": "[encoded data removed]",
      "text/plain": [
       "<Figure size 1000x600 with 1 Axes>"
      ]
     },
     "metadata": {},
     "output_type": "display_data"
    }
   ],
   "source": [
    "import matplotlib.pyplot as plt\n",
    "import seaborn as sns\n",
    "\n",
    "# Supón que tu dataframe se llama df\n",
    "unique_species_count = df['species'].value_counts()\n",
    "species = unique_species_count.index\n",
    "\n",
    "palette = sns.color_palette(\"viridis\", n_colors=len(species))\n",
    "\n",
    "plt.figure(figsize=(10, 6))\n",
    "plt.barh(unique_species_count.index, unique_species_count.values, color=palette)\n",
    "plt.title('Frecuencia de Especies', fontsize=16)\n",
    "plt.xlabel('Frecuencia', fontsize=12)\n",
    "plt.ylabel('Especies', fontsize=12)\n",
    "plt.tight_layout()\n",
    "plt.show()\n"
   ]
  },
  {
   "cell_type": "markdown",
   "id": "f08764a4",
   "metadata": {},
   "source": [
    "## Respecto al espacio\n",
    "\n",
    "Para estos análisis se utilizará el conjunto de datos remuestrados cada 5 minutos, riqueza_especies"
   ]
  },
  {
   "cell_type": "code",
   "execution_count": 25,
   "id": "796efe4f",
   "metadata": {},
   "outputs": [
    {
     "name": "stderr",
     "output_type": "stream",
     "text": [
      "/tmp/ipykernel_40243/3368627958.py:10: FutureWarning:\n",
      "\n",
      "\n",
      "\n",
      "Passing `palette` without assigning `hue` is deprecated and will be removed in v0.14.0. Assign the `x` variable to `hue` and set `legend=False` for the same effect.\n",
      "\n",
      "\n"
     ]
    },
    {
     "data": {
      "image/png": "[encoded data removed]",
      "text/plain": [
       "<Figure size 1600x600 with 1 Axes>"
      ]
     },
     "metadata": {},
     "output_type": "display_data"
    }
   ],
   "source": [
    "import pandas as pd\n",
    "import matplotlib.pyplot as plt\n",
    "import seaborn as sns\n",
    "\n",
    "# Agrupar y ordenar\n",
    "site_counts = df2.groupby('site', observed=True)['species_count'].sum().reset_index()\n",
    "site_counts = site_counts.sort_values(by='species_count', ascending=False)\n",
    "\n",
    "plt.figure(figsize=(16, 6))\n",
    "ax = sns.barplot(x='site', y='species_count', data=site_counts,\n",
    "                 order=site_counts['site'], palette=\"viridis\")\n",
    "\n",
    "plt.title('Suma Total de Especies Detectadas por Sitio')\n",
    "plt.xlabel('Sitio')\n",
    "plt.ylabel('Suma de Especies Detectadas')\n",
    "plt.xticks(rotation=45, ha='right')\n",
    "plt.tight_layout()\n",
    "\n",
    "# Agregar los valores encima de cada barra, usando los patches del gráfico\n",
    "for bar in ax.patches:\n",
    "    height = bar.get_height()\n",
    "    ax.annotate(f'{int(height)}',\n",
    "                xy=(bar.get_x() + bar.get_width() / 2, height),\n",
    "                xytext=(0, 5),  # 5 puntos arriba\n",
    "                textcoords='offset points',\n",
    "                ha='center', va='bottom', fontsize=10, fontweight='bold')\n",
    "\n",
    "plt.show()"
   ]
  },
  {
   "cell_type": "markdown",
   "id": "a7ebc2e4",
   "metadata": {},
   "source": [
    "## Respecto a la riqueza de especies x sitio"
   ]
  },
  {
   "cell_type": "code",
   "execution_count": 26,
   "id": "d9241440",
   "metadata": {},
   "outputs": [
    {
     "name": "stderr",
     "output_type": "stream",
     "text": [
      "/tmp/ipykernel_40243/1420849205.py:8: FutureWarning:\n",
      "\n",
      "\n",
      "\n",
      "Passing `palette` without assigning `hue` is deprecated and will be removed in v0.14.0. Assign the `x` variable to `hue` and set `legend=False` for the same effect.\n",
      "\n",
      "\n"
     ]
    },
    {
     "data": {
      "image/png": "[encoded data removed]",
      "text/plain": [
       "<Figure size 1600x600 with 1 Axes>"
      ]
     },
     "metadata": {},
     "output_type": "display_data"
    }
   ],
   "source": [
    "import matplotlib.pyplot as plt\n",
    "import seaborn as sns\n",
    "\n",
    "# df es tu dataframe principal, el que tiene 'site' y 'species'\n",
    "unique_species_per_site = df.groupby('site')['species'].nunique().sort_values(ascending=False)\n",
    "\n",
    "plt.figure(figsize=(16, 6))\n",
    "sns.barplot(\n",
    "    x=unique_species_per_site.index,\n",
    "    y=unique_species_per_site.values,\n",
    "    palette=\"viridis\"\n",
    ")\n",
    "for i, v in enumerate(unique_species_per_site.values):\n",
    "    plt.text(i, v + 0.2, str(v), ha='center', fontsize=9, fontweight='bold')\n",
    "plt.title('Riqueza de Especies por Sitio', fontsize=16)\n",
    "plt.xlabel('Sitio', fontsize=12)\n",
    "plt.ylabel('N° de Especies', fontsize=12)\n",
    "plt.xticks(rotation=45, ha='right')\n",
    "plt.tight_layout()\n",
    "plt.show()\n"
   ]
  },
  {
   "cell_type": "markdown",
   "id": "b8d1dfe6",
   "metadata": {},
   "source": [
    "## Respecto a especies dominantes\n",
    "\n",
    "Para estos análisis se utilizará el conjunto de datos remuestrados cada 5 minutos, riqueza_especies. Se filtrará para dejar solo a las tres especies con más detecciones, las cuales representan en conjunto el 85% de las detecciones totales. Estas especies son: Scelorchilus rubecula (50%), Sephanoides sephaniodes (23%) y Aphrastura spinicauda (12%)."
   ]
  },
  {
   "cell_type": "code",
   "execution_count": 35,
   "id": "c78970d8",
   "metadata": {},
   "outputs": [
    {
     "data": {
      "image/png": "[encoded data removed]",
      "text/plain": [
       "<Figure size 1600x600 with 1 Axes>"
      ]
     },
     "metadata": {},
     "output_type": "display_data"
    }
   ],
   "source": [
    "import pandas as pd\n",
    "\n",
    "# Prepara tabla resumen: filas=site, columnas=species, valores=conteo\n",
    "stacked_counts = df.groupby(['site', 'species']).size().unstack(fill_value=0)\n",
    "\n",
    "# Ordena los sitios como quieras (por ejemplo, por suma total de detecciones)\n",
    "ordered_sites = stacked_counts.sum(axis=1).sort_values(ascending=False).index\n",
    "stacked_counts = stacked_counts.loc[ordered_sites]\n",
    "\n",
    "# Gráfico de barras apiladas\n",
    "stacked_counts.plot(\n",
    "    kind='bar',\n",
    "    stacked=True,\n",
    "    figsize=(16,6),\n",
    "    colormap='viridis',  # cambiar colormap si tienes muchas especies\n",
    "    edgecolor='black'\n",
    ")\n",
    "plt.title('Detecciones por Especie y por Sitio', fontsize=16)\n",
    "plt.xlabel('Sitio', fontsize=12)\n",
    "plt.ylabel('Número de Detecciones', fontsize=12)\n",
    "plt.xticks(rotation=45, ha='right')\n",
    "plt.legend(title='Especie', bbox_to_anchor=(1.05, 1), loc='upper left')\n",
    "plt.tight_layout()\n",
    "plt.show()\n"
   ]
  },
  {
   "cell_type": "code",
   "execution_count": 37,
   "id": "e647fda9",
   "metadata": {},
   "outputs": [
    {
     "data": {
      "image/png": "[encoded data removed]",
      "text/plain": [
       "<Figure size 1600x600 with 1 Axes>"
      ]
     },
     "metadata": {},
     "output_type": "display_data"
    }
   ],
   "source": [
    "import matplotlib.pyplot as plt\n",
    "\n",
    "# Filtrar el dataframe para incluir solo las especies deseadas\n",
    "especies_filtradas = ['Scelorchilus rubecula', 'Sephanoides sephaniodes', 'Aphrastura spinicauda']\n",
    "df_filtrado = df[df['species'].isin(especies_filtradas)]\n",
    "\n",
    "# Crear tabla pivote: filas=site, columnas=species, valores=conteo\n",
    "stacked_counts = df_filtrado.groupby(['site', 'species']).size().unstack(fill_value=0)\n",
    "\n",
    "# Ordenar sitios según suma total de detecciones descendente\n",
    "ordered_sites = stacked_counts.sum(axis=1).sort_values(ascending=False).index\n",
    "stacked_counts = stacked_counts.loc[ordered_sites]\n",
    "\n",
    "# Graficar barras apiladas\n",
    "stacked_counts.plot(\n",
    "    kind='bar',\n",
    "    stacked=True,\n",
    "    figsize=(16,6),\n",
    "    colormap='viridis',\n",
    "    edgecolor='black'\n",
    ")\n",
    "plt.title('Detecciones por Especie y por Sitio (especies dominantes)', fontsize=16)\n",
    "plt.xlabel('Sitio', fontsize=12)\n",
    "plt.ylabel('Número de Detecciones', fontsize=12)\n",
    "plt.xticks(rotation=45, ha='right')\n",
    "plt.legend(title='Especie', bbox_to_anchor=(1.05, 1), loc='upper left')\n",
    "plt.tight_layout()\n",
    "plt.show()\n"
   ]
  },
  {
   "cell_type": "code",
   "execution_count": 33,
   "id": "1895e0fd",
   "metadata": {},
   "outputs": [
    {
     "data": {
      "application/vnd.plotly.v1+json": {
       "config": {
        "plotlyServerURL": "https://plot.ly"
       },
       "data": [
        {
         "hovertemplate": "Sitio: %{x}<br>Especie: Anairetes parulus<br>Detecciones: %{y}<extra></extra>",
         "name": "Anairetes parulus",
         "type": "bar",
         "x": [
          "P01_SMM09721",
          "P03_SMM09499",
          "P19_SMM09396",
          "P13_SMM09539",
          "P02_SMM09261",
          "P20_SMM09279",
          "P04_SMM09557",
          "P39_SMM09309",
          "P23_SMM09360",
          "P34_SMM09565",
          "P36_SMM09520",
          "P37_SMM09595",
          "P07_SMM09344",
          "P43_SMM09315",
          "P41_SMM09350",
          "P40_SMM09245",
          "P16_SMM09317",
          "P15_SMM09353",
          "P26_SMM09319",
          "P09_SMM09311",
          "P35_SMM09330"
         ],
         "y": {
          "bdata": "AgAAAQUDAAAJAAAAAAAAAAAAAAAA",
          "dtype": "i1"
         }
        },
        {
         "hovertemplate": "Sitio: %{x}<br>Especie: Aphrastura spinicauda<br>Detecciones: %{y}<extra></extra>",
         "name": "Aphrastura spinicauda",
         "type": "bar",
         "x": [
          "P01_SMM09721",
          "P03_SMM09499",
          "P19_SMM09396",
          "P13_SMM09539",
          "P02_SMM09261",
          "P20_SMM09279",
          "P04_SMM09557",
          "P39_SMM09309",
          "P23_SMM09360",
          "P34_SMM09565",
          "P36_SMM09520",
          "P37_SMM09595",
          "P07_SMM09344",
          "P43_SMM09315",
          "P41_SMM09350",
          "P40_SMM09245",
          "P16_SMM09317",
          "P15_SMM09353",
          "P26_SMM09319",
          "P09_SMM09311",
          "P35_SMM09330"
         ],
         "y": {
          "bdata": "JwFEAgAAAACRAQAA2gEAAAAAAAAAAAAAAAAAAAAAAAAAAAAAAAAAAAAA",
          "dtype": "i2"
         }
        },
        {
         "hovertemplate": "Sitio: %{x}<br>Especie: Colorhamphus parvirostris<br>Detecciones: %{y}<extra></extra>",
         "name": "Colorhamphus parvirostris",
         "type": "bar",
         "x": [
          "P01_SMM09721",
          "P03_SMM09499",
          "P19_SMM09396",
          "P13_SMM09539",
          "P02_SMM09261",
          "P20_SMM09279",
          "P04_SMM09557",
          "P39_SMM09309",
          "P23_SMM09360",
          "P34_SMM09565",
          "P36_SMM09520",
          "P37_SMM09595",
          "P07_SMM09344",
          "P43_SMM09315",
          "P41_SMM09350",
          "P40_SMM09245",
          "P16_SMM09317",
          "P15_SMM09353",
          "P26_SMM09319",
          "P09_SMM09311",
          "P35_SMM09330"
         ],
         "y": {
          "bdata": "FAMECwwDBAMAAAAAAAAAAAEAAAAA",
          "dtype": "i1"
         }
        },
        {
         "hovertemplate": "Sitio: %{x}<br>Especie: Elaenia albiceps<br>Detecciones: %{y}<extra></extra>",
         "name": "Elaenia albiceps",
         "type": "bar",
         "x": [
          "P01_SMM09721",
          "P03_SMM09499",
          "P19_SMM09396",
          "P13_SMM09539",
          "P02_SMM09261",
          "P20_SMM09279",
          "P04_SMM09557",
          "P39_SMM09309",
          "P23_SMM09360",
          "P34_SMM09565",
          "P36_SMM09520",
          "P37_SMM09595",
          "P07_SMM09344",
          "P43_SMM09315",
          "P41_SMM09350",
          "P40_SMM09245",
          "P16_SMM09317",
          "P15_SMM09353",
          "P26_SMM09319",
          "P09_SMM09311",
          "P35_SMM09330"
         ],
         "y": {
          "bdata": "BgAyAF8BPQBoAHkAKgA8AFUAIwAIAAAAAAAOAAAAAAACAAAABgAAAAAA",
          "dtype": "i2"
         }
        },
        {
         "hovertemplate": "Sitio: %{x}<br>Especie: Enicognathus ferrugineus<br>Detecciones: %{y}<extra></extra>",
         "name": "Enicognathus ferrugineus",
         "type": "bar",
         "x": [
          "P01_SMM09721",
          "P03_SMM09499",
          "P19_SMM09396",
          "P13_SMM09539",
          "P02_SMM09261",
          "P20_SMM09279",
          "P04_SMM09557",
          "P39_SMM09309",
          "P23_SMM09360",
          "P34_SMM09565",
          "P36_SMM09520",
          "P37_SMM09595",
          "P07_SMM09344",
          "P43_SMM09315",
          "P41_SMM09350",
          "P40_SMM09245",
          "P16_SMM09317",
          "P15_SMM09353",
          "P26_SMM09319",
          "P09_SMM09311",
          "P35_SMM09330"
         ],
         "y": {
          "bdata": "BwEAAAkAAgEABAAAAAAAAAAAAAAA",
          "dtype": "i1"
         }
        },
        {
         "hovertemplate": "Sitio: %{x}<br>Especie: Glaucidium nana<br>Detecciones: %{y}<extra></extra>",
         "name": "Glaucidium nana",
         "type": "bar",
         "x": [
          "P01_SMM09721",
          "P03_SMM09499",
          "P19_SMM09396",
          "P13_SMM09539",
          "P02_SMM09261",
          "P20_SMM09279",
          "P04_SMM09557",
          "P39_SMM09309",
          "P23_SMM09360",
          "P34_SMM09565",
          "P36_SMM09520",
          "P37_SMM09595",
          "P07_SMM09344",
          "P43_SMM09315",
          "P41_SMM09350",
          "P40_SMM09245",
          "P16_SMM09317",
          "P15_SMM09353",
          "P26_SMM09319",
          "P09_SMM09311",
          "P35_SMM09330"
         ],
         "y": {
          "bdata": "CwUAACoCAAABAAAAAAAAAAAAAAAA",
          "dtype": "i1"
         }
        },
        {
         "hovertemplate": "Sitio: %{x}<br>Especie: Pteroptochos tarnii<br>Detecciones: %{y}<extra></extra>",
         "name": "Pteroptochos tarnii",
         "type": "bar",
         "x": [
          "P01_SMM09721",
          "P03_SMM09499",
          "P19_SMM09396",
          "P13_SMM09539",
          "P02_SMM09261",
          "P20_SMM09279",
          "P04_SMM09557",
          "P39_SMM09309",
          "P23_SMM09360",
          "P34_SMM09565",
          "P36_SMM09520",
          "P37_SMM09595",
          "P07_SMM09344",
          "P43_SMM09315",
          "P41_SMM09350",
          "P40_SMM09245",
          "P16_SMM09317",
          "P15_SMM09353",
          "P26_SMM09319",
          "P09_SMM09311",
          "P35_SMM09330"
         ],
         "y": {
          "bdata": "JykLFR0ACxcBDgkAAAUAAAAAAAAA",
          "dtype": "i1"
         }
        },
        {
         "hovertemplate": "Sitio: %{x}<br>Especie: Pygarrhichas albogularis<br>Detecciones: %{y}<extra></extra>",
         "name": "Pygarrhichas albogularis",
         "type": "bar",
         "x": [
          "P01_SMM09721",
          "P03_SMM09499",
          "P19_SMM09396",
          "P13_SMM09539",
          "P02_SMM09261",
          "P20_SMM09279",
          "P04_SMM09557",
          "P39_SMM09309",
          "P23_SMM09360",
          "P34_SMM09565",
          "P36_SMM09520",
          "P37_SMM09595",
          "P07_SMM09344",
          "P43_SMM09315",
          "P41_SMM09350",
          "P40_SMM09245",
          "P16_SMM09317",
          "P15_SMM09353",
          "P26_SMM09319",
          "P09_SMM09311",
          "P35_SMM09330"
         ],
         "y": {
          "bdata": "HQCGAAUACQAJAAcAHAAUAAsAAgAAAAAAAAANAAAAAAAAAAAAAwAAAAAA",
          "dtype": "i2"
         }
        },
        {
         "hovertemplate": "Sitio: %{x}<br>Especie: Scelorchilus rubecula<br>Detecciones: %{y}<extra></extra>",
         "name": "Scelorchilus rubecula",
         "type": "bar",
         "x": [
          "P01_SMM09721",
          "P03_SMM09499",
          "P19_SMM09396",
          "P13_SMM09539",
          "P02_SMM09261",
          "P20_SMM09279",
          "P04_SMM09557",
          "P39_SMM09309",
          "P23_SMM09360",
          "P34_SMM09565",
          "P36_SMM09520",
          "P37_SMM09595",
          "P07_SMM09344",
          "P43_SMM09315",
          "P41_SMM09350",
          "P40_SMM09245",
          "P16_SMM09317",
          "P15_SMM09353",
          "P26_SMM09319",
          "P09_SMM09311",
          "P35_SMM09330"
         ],
         "y": {
          "bdata": "TAiMBGEFQAQ9AeYA9AB4A60BqwBYAF0C6wF+AZEBiAEBAB8BAACqAGcA",
          "dtype": "i2"
         }
        },
        {
         "hovertemplate": "Sitio: %{x}<br>Especie: Scytalopus magellanicus<br>Detecciones: %{y}<extra></extra>",
         "name": "Scytalopus magellanicus",
         "type": "bar",
         "x": [
          "P01_SMM09721",
          "P03_SMM09499",
          "P19_SMM09396",
          "P13_SMM09539",
          "P02_SMM09261",
          "P20_SMM09279",
          "P04_SMM09557",
          "P39_SMM09309",
          "P23_SMM09360",
          "P34_SMM09565",
          "P36_SMM09520",
          "P37_SMM09595",
          "P07_SMM09344",
          "P43_SMM09315",
          "P41_SMM09350",
          "P40_SMM09245",
          "P16_SMM09317",
          "P15_SMM09353",
          "P26_SMM09319",
          "P09_SMM09311",
          "P35_SMM09330"
         ],
         "y": {
          "bdata": "GhgAAAYAFj4AAAUAAAsAAAAAAAAA",
          "dtype": "i1"
         }
        },
        {
         "hovertemplate": "Sitio: %{x}<br>Especie: Sephanoides sephaniodes<br>Detecciones: %{y}<extra></extra>",
         "name": "Sephanoides sephaniodes",
         "type": "bar",
         "x": [
          "P01_SMM09721",
          "P03_SMM09499",
          "P19_SMM09396",
          "P13_SMM09539",
          "P02_SMM09261",
          "P20_SMM09279",
          "P04_SMM09557",
          "P39_SMM09309",
          "P23_SMM09360",
          "P34_SMM09565",
          "P36_SMM09520",
          "P37_SMM09595",
          "P07_SMM09344",
          "P43_SMM09315",
          "P41_SMM09350",
          "P40_SMM09245",
          "P16_SMM09317",
          "P15_SMM09353",
          "P26_SMM09319",
          "P09_SMM09311",
          "P35_SMM09330"
         ],
         "y": {
          "bdata": "jAEOAuIBTAK5AKADWQFFACEBpQKGAgAAAAAEAAAAAABAAQAABgAAAAAA",
          "dtype": "i2"
         }
        },
        {
         "hovertemplate": "Sitio: %{x}<br>Especie: Strix rufipes<br>Detecciones: %{y}<extra></extra>",
         "name": "Strix rufipes",
         "type": "bar",
         "x": [
          "P01_SMM09721",
          "P03_SMM09499",
          "P19_SMM09396",
          "P13_SMM09539",
          "P02_SMM09261",
          "P20_SMM09279",
          "P04_SMM09557",
          "P39_SMM09309",
          "P23_SMM09360",
          "P34_SMM09565",
          "P36_SMM09520",
          "P37_SMM09595",
          "P07_SMM09344",
          "P43_SMM09315",
          "P41_SMM09350",
          "P40_SMM09245",
          "P16_SMM09317",
          "P15_SMM09353",
          "P26_SMM09319",
          "P09_SMM09311",
          "P35_SMM09330"
         ],
         "y": {
          "bdata": "CAYDACgABQAAAAAAAAAAAAAAAAAA",
          "dtype": "i1"
         }
        },
        {
         "hovertemplate": "Sitio: %{x}<br>Especie: Sylviorthorhynchus desmursii<br>Detecciones: %{y}<extra></extra>",
         "name": "Sylviorthorhynchus desmursii",
         "type": "bar",
         "x": [
          "P01_SMM09721",
          "P03_SMM09499",
          "P19_SMM09396",
          "P13_SMM09539",
          "P02_SMM09261",
          "P20_SMM09279",
          "P04_SMM09557",
          "P39_SMM09309",
          "P23_SMM09360",
          "P34_SMM09565",
          "P36_SMM09520",
          "P37_SMM09595",
          "P07_SMM09344",
          "P43_SMM09315",
          "P41_SMM09350",
          "P40_SMM09245",
          "P16_SMM09317",
          "P15_SMM09353",
          "P26_SMM09319",
          "P09_SMM09311",
          "P35_SMM09330"
         ],
         "y": {
          "bdata": "AQEGAwAAAAAAAAAAAAAAAAAAAAAA",
          "dtype": "i1"
         }
        },
        {
         "hovertemplate": "Sitio: %{x}<br>Especie: Theristicus melanopis<br>Detecciones: %{y}<extra></extra>",
         "name": "Theristicus melanopis",
         "type": "bar",
         "x": [
          "P01_SMM09721",
          "P03_SMM09499",
          "P19_SMM09396",
          "P13_SMM09539",
          "P02_SMM09261",
          "P20_SMM09279",
          "P04_SMM09557",
          "P39_SMM09309",
          "P23_SMM09360",
          "P34_SMM09565",
          "P36_SMM09520",
          "P37_SMM09595",
          "P07_SMM09344",
          "P43_SMM09315",
          "P41_SMM09350",
          "P40_SMM09245",
          "P16_SMM09317",
          "P15_SMM09353",
          "P26_SMM09319",
          "P09_SMM09311",
          "P35_SMM09330"
         ],
         "y": {
          "bdata": "AQICBAEBAQB8AAAAAAAAAA0ACgAA",
          "dtype": "i1"
         }
        },
        {
         "hovertemplate": "Sitio: %{x}<br>Especie: Turdus falcklandii<br>Detecciones: %{y}<extra></extra>",
         "name": "Turdus falcklandii",
         "type": "bar",
         "x": [
          "P01_SMM09721",
          "P03_SMM09499",
          "P19_SMM09396",
          "P13_SMM09539",
          "P02_SMM09261",
          "P20_SMM09279",
          "P04_SMM09557",
          "P39_SMM09309",
          "P23_SMM09360",
          "P34_SMM09565",
          "P36_SMM09520",
          "P37_SMM09595",
          "P07_SMM09344",
          "P43_SMM09315",
          "P41_SMM09350",
          "P40_SMM09245",
          "P16_SMM09317",
          "P15_SMM09353",
          "P26_SMM09319",
          "P09_SMM09311",
          "P35_SMM09330"
         ],
         "y": {
          "bdata": "Ih4EC2EIDR91KQIAABkAABYACQAA",
          "dtype": "i1"
         }
        },
        {
         "hovertemplate": "Sitio: %{x}<br>Especie: Dryobates lignarius<br>Detecciones: %{y}<extra></extra>",
         "name": "Dryobates lignarius",
         "type": "bar",
         "x": [
          "P01_SMM09721",
          "P03_SMM09499",
          "P19_SMM09396",
          "P13_SMM09539",
          "P02_SMM09261",
          "P20_SMM09279",
          "P04_SMM09557",
          "P39_SMM09309",
          "P23_SMM09360",
          "P34_SMM09565",
          "P36_SMM09520",
          "P37_SMM09595",
          "P07_SMM09344",
          "P43_SMM09315",
          "P41_SMM09350",
          "P40_SMM09245",
          "P16_SMM09317",
          "P15_SMM09353",
          "P26_SMM09319",
          "P09_SMM09311",
          "P35_SMM09330"
         ],
         "y": {
          "bdata": "AAIAAAYAAgIBAAAAAAcAAAAAAAAA",
          "dtype": "i1"
         }
        },
        {
         "hovertemplate": "Sitio: %{x}<br>Especie: Milvago chimango<br>Detecciones: %{y}<extra></extra>",
         "name": "Milvago chimango",
         "type": "bar",
         "x": [
          "P01_SMM09721",
          "P03_SMM09499",
          "P19_SMM09396",
          "P13_SMM09539",
          "P02_SMM09261",
          "P20_SMM09279",
          "P04_SMM09557",
          "P39_SMM09309",
          "P23_SMM09360",
          "P34_SMM09565",
          "P36_SMM09520",
          "P37_SMM09595",
          "P07_SMM09344",
          "P43_SMM09315",
          "P41_SMM09350",
          "P40_SMM09245",
          "P16_SMM09317",
          "P15_SMM09353",
          "P26_SMM09319",
          "P09_SMM09311",
          "P35_SMM09330"
         ],
         "y": {
          "bdata": "AAgAAAMACgAAAAAAAAAAAAAAAAAA",
          "dtype": "i1"
         }
        },
        {
         "hovertemplate": "Sitio: %{x}<br>Especie: Phrygilus patagonicus<br>Detecciones: %{y}<extra></extra>",
         "name": "Phrygilus patagonicus",
         "type": "bar",
         "x": [
          "P01_SMM09721",
          "P03_SMM09499",
          "P19_SMM09396",
          "P13_SMM09539",
          "P02_SMM09261",
          "P20_SMM09279",
          "P04_SMM09557",
          "P39_SMM09309",
          "P23_SMM09360",
          "P34_SMM09565",
          "P36_SMM09520",
          "P37_SMM09595",
          "P07_SMM09344",
          "P43_SMM09315",
          "P41_SMM09350",
          "P40_SMM09245",
          "P16_SMM09317",
          "P15_SMM09353",
          "P26_SMM09319",
          "P09_SMM09311",
          "P35_SMM09330"
         ],
         "y": {
          "bdata": "AAEAAAEAAQAAAAAAAAUAAAAAAAAA",
          "dtype": "i1"
         }
        },
        {
         "hovertemplate": "Sitio: %{x}<br>Especie: Troglodytes aedon<br>Detecciones: %{y}<extra></extra>",
         "name": "Troglodytes aedon",
         "type": "bar",
         "x": [
          "P01_SMM09721",
          "P03_SMM09499",
          "P19_SMM09396",
          "P13_SMM09539",
          "P02_SMM09261",
          "P20_SMM09279",
          "P04_SMM09557",
          "P39_SMM09309",
          "P23_SMM09360",
          "P34_SMM09565",
          "P36_SMM09520",
          "P37_SMM09595",
          "P07_SMM09344",
          "P43_SMM09315",
          "P41_SMM09350",
          "P40_SMM09245",
          "P16_SMM09317",
          "P15_SMM09353",
          "P26_SMM09319",
          "P09_SMM09311",
          "P35_SMM09330"
         ],
         "y": {
          "bdata": "AAAAAAUBAAAAAAAAAAAAAAAAAAAA",
          "dtype": "i1"
         }
        },
        {
         "hovertemplate": "Sitio: %{x}<br>Especie: Vanellus chilensis<br>Detecciones: %{y}<extra></extra>",
         "name": "Vanellus chilensis",
         "type": "bar",
         "x": [
          "P01_SMM09721",
          "P03_SMM09499",
          "P19_SMM09396",
          "P13_SMM09539",
          "P02_SMM09261",
          "P20_SMM09279",
          "P04_SMM09557",
          "P39_SMM09309",
          "P23_SMM09360",
          "P34_SMM09565",
          "P36_SMM09520",
          "P37_SMM09595",
          "P07_SMM09344",
          "P43_SMM09315",
          "P41_SMM09350",
          "P40_SMM09245",
          "P16_SMM09317",
          "P15_SMM09353",
          "P26_SMM09319",
          "P09_SMM09311",
          "P35_SMM09330"
         ],
         "y": {
          "bdata": "AAAAAAwAAAA5AAAAAAAAAAwAJgAA",
          "dtype": "i1"
         }
        },
        {
         "hovertemplate": "Sitio: %{x}<br>Especie: Xolmis pyrope<br>Detecciones: %{y}<extra></extra>",
         "name": "Xolmis pyrope",
         "type": "bar",
         "x": [
          "P01_SMM09721",
          "P03_SMM09499",
          "P19_SMM09396",
          "P13_SMM09539",
          "P02_SMM09261",
          "P20_SMM09279",
          "P04_SMM09557",
          "P39_SMM09309",
          "P23_SMM09360",
          "P34_SMM09565",
          "P36_SMM09520",
          "P37_SMM09595",
          "P07_SMM09344",
          "P43_SMM09315",
          "P41_SMM09350",
          "P40_SMM09245",
          "P16_SMM09317",
          "P15_SMM09353",
          "P26_SMM09319",
          "P09_SMM09311",
          "P35_SMM09330"
         ],
         "y": {
          "bdata": "AAAAAhgAAAAAAAAAABAAAAAAAAAA",
          "dtype": "i1"
         }
        },
        {
         "hovertemplate": "Sitio: %{x}<br>Especie: Campephilus magellanicus<br>Detecciones: %{y}<extra></extra>",
         "name": "Campephilus magellanicus",
         "type": "bar",
         "x": [
          "P01_SMM09721",
          "P03_SMM09499",
          "P19_SMM09396",
          "P13_SMM09539",
          "P02_SMM09261",
          "P20_SMM09279",
          "P04_SMM09557",
          "P39_SMM09309",
          "P23_SMM09360",
          "P34_SMM09565",
          "P36_SMM09520",
          "P37_SMM09595",
          "P07_SMM09344",
          "P43_SMM09315",
          "P41_SMM09350",
          "P40_SMM09245",
          "P16_SMM09317",
          "P15_SMM09353",
          "P26_SMM09319",
          "P09_SMM09311",
          "P35_SMM09330"
         ],
         "y": {
          "bdata": "AAMAAAAAAQAAAAAAAAAAAAAAAAAA",
          "dtype": "i1"
         }
        },
        {
         "hovertemplate": "Sitio: %{x}<br>Especie: Eugralla paradoxa<br>Detecciones: %{y}<extra></extra>",
         "name": "Eugralla paradoxa",
         "type": "bar",
         "x": [
          "P01_SMM09721",
          "P03_SMM09499",
          "P19_SMM09396",
          "P13_SMM09539",
          "P02_SMM09261",
          "P20_SMM09279",
          "P04_SMM09557",
          "P39_SMM09309",
          "P23_SMM09360",
          "P34_SMM09565",
          "P36_SMM09520",
          "P37_SMM09595",
          "P07_SMM09344",
          "P43_SMM09315",
          "P41_SMM09350",
          "P40_SMM09245",
          "P16_SMM09317",
          "P15_SMM09353",
          "P26_SMM09319",
          "P09_SMM09311",
          "P35_SMM09330"
         ],
         "y": {
          "bdata": "ACUAAAAAAAAAAAAAAAAAAAAAAQAA",
          "dtype": "i1"
         }
        },
        {
         "hovertemplate": "Sitio: %{x}<br>Especie: Tyto alba<br>Detecciones: %{y}<extra></extra>",
         "name": "Tyto alba",
         "type": "bar",
         "x": [
          "P01_SMM09721",
          "P03_SMM09499",
          "P19_SMM09396",
          "P13_SMM09539",
          "P02_SMM09261",
          "P20_SMM09279",
          "P04_SMM09557",
          "P39_SMM09309",
          "P23_SMM09360",
          "P34_SMM09565",
          "P36_SMM09520",
          "P37_SMM09595",
          "P07_SMM09344",
          "P43_SMM09315",
          "P41_SMM09350",
          "P40_SMM09245",
          "P16_SMM09317",
          "P15_SMM09353",
          "P26_SMM09319",
          "P09_SMM09311",
          "P35_SMM09330"
         ],
         "y": {
          "bdata": "AA0AAAAAAAAAAAAAAAAAAAAAAAAA",
          "dtype": "i1"
         }
        },
        {
         "hovertemplate": "Sitio: %{x}<br>Especie: Curaeus curaeus<br>Detecciones: %{y}<extra></extra>",
         "name": "Curaeus curaeus",
         "type": "bar",
         "x": [
          "P01_SMM09721",
          "P03_SMM09499",
          "P19_SMM09396",
          "P13_SMM09539",
          "P02_SMM09261",
          "P20_SMM09279",
          "P04_SMM09557",
          "P39_SMM09309",
          "P23_SMM09360",
          "P34_SMM09565",
          "P36_SMM09520",
          "P37_SMM09595",
          "P07_SMM09344",
          "P43_SMM09315",
          "P41_SMM09350",
          "P40_SMM09245",
          "P16_SMM09317",
          "P15_SMM09353",
          "P26_SMM09319",
          "P09_SMM09311",
          "P35_SMM09330"
         ],
         "y": {
          "bdata": "AAAABQAAAAMAAAAAAAAAAAIAAAAA",
          "dtype": "i1"
         }
        },
        {
         "hovertemplate": "Sitio: %{x}<br>Especie: Colaptes pitius<br>Detecciones: %{y}<extra></extra>",
         "name": "Colaptes pitius",
         "type": "bar",
         "x": [
          "P01_SMM09721",
          "P03_SMM09499",
          "P19_SMM09396",
          "P13_SMM09539",
          "P02_SMM09261",
          "P20_SMM09279",
          "P04_SMM09557",
          "P39_SMM09309",
          "P23_SMM09360",
          "P34_SMM09565",
          "P36_SMM09520",
          "P37_SMM09595",
          "P07_SMM09344",
          "P43_SMM09315",
          "P41_SMM09350",
          "P40_SMM09245",
          "P16_SMM09317",
          "P15_SMM09353",
          "P26_SMM09319",
          "P09_SMM09311",
          "P35_SMM09330"
         ],
         "y": {
          "bdata": "AAAAAAAAAAAAAAAAAAAAAAEAAAAA",
          "dtype": "i1"
         }
        },
        {
         "hovertemplate": "Sitio: %{x}<br>Especie: Sturnella loyca<br>Detecciones: %{y}<extra></extra>",
         "name": "Sturnella loyca",
         "type": "bar",
         "x": [
          "P01_SMM09721",
          "P03_SMM09499",
          "P19_SMM09396",
          "P13_SMM09539",
          "P02_SMM09261",
          "P20_SMM09279",
          "P04_SMM09557",
          "P39_SMM09309",
          "P23_SMM09360",
          "P34_SMM09565",
          "P36_SMM09520",
          "P37_SMM09595",
          "P07_SMM09344",
          "P43_SMM09315",
          "P41_SMM09350",
          "P40_SMM09245",
          "P16_SMM09317",
          "P15_SMM09353",
          "P26_SMM09319",
          "P09_SMM09311",
          "P35_SMM09330"
         ],
         "y": {
          "bdata": "AAAAAAAAAAAAAAAAAAAAAAEAdQAA",
          "dtype": "i1"
         }
        },
        {
         "hovertemplate": "Sitio: %{x}<br>Especie: Sicalis luteola<br>Detecciones: %{y}<extra></extra>",
         "name": "Sicalis luteola",
         "type": "bar",
         "x": [
          "P01_SMM09721",
          "P03_SMM09499",
          "P19_SMM09396",
          "P13_SMM09539",
          "P02_SMM09261",
          "P20_SMM09279",
          "P04_SMM09557",
          "P39_SMM09309",
          "P23_SMM09360",
          "P34_SMM09565",
          "P36_SMM09520",
          "P37_SMM09595",
          "P07_SMM09344",
          "P43_SMM09315",
          "P41_SMM09350",
          "P40_SMM09245",
          "P16_SMM09317",
          "P15_SMM09353",
          "P26_SMM09319",
          "P09_SMM09311",
          "P35_SMM09330"
         ],
         "y": {
          "bdata": "AAAAAAAAAAAAAAAAAAEAAAAACwAA",
          "dtype": "i1"
         }
        },
        {
         "hovertemplate": "Sitio: %{x}<br>Especie: Zonotrichia capensis<br>Detecciones: %{y}<extra></extra>",
         "name": "Zonotrichia capensis",
         "type": "bar",
         "x": [
          "P01_SMM09721",
          "P03_SMM09499",
          "P19_SMM09396",
          "P13_SMM09539",
          "P02_SMM09261",
          "P20_SMM09279",
          "P04_SMM09557",
          "P39_SMM09309",
          "P23_SMM09360",
          "P34_SMM09565",
          "P36_SMM09520",
          "P37_SMM09595",
          "P07_SMM09344",
          "P43_SMM09315",
          "P41_SMM09350",
          "P40_SMM09245",
          "P16_SMM09317",
          "P15_SMM09353",
          "P26_SMM09319",
          "P09_SMM09311",
          "P35_SMM09330"
         ],
         "y": {
          "bdata": "AAAAAAAAAAAAAAAAAAAAAAAAHAAA",
          "dtype": "i1"
         }
        },
        {
         "hovertemplate": "Sitio: %{x}<br>Especie: Patagioenas araucana<br>Detecciones: %{y}<extra></extra>",
         "name": "Patagioenas araucana",
         "type": "bar",
         "x": [
          "P01_SMM09721",
          "P03_SMM09499",
          "P19_SMM09396",
          "P13_SMM09539",
          "P02_SMM09261",
          "P20_SMM09279",
          "P04_SMM09557",
          "P39_SMM09309",
          "P23_SMM09360",
          "P34_SMM09565",
          "P36_SMM09520",
          "P37_SMM09595",
          "P07_SMM09344",
          "P43_SMM09315",
          "P41_SMM09350",
          "P40_SMM09245",
          "P16_SMM09317",
          "P15_SMM09353",
          "P26_SMM09319",
          "P09_SMM09311",
          "P35_SMM09330"
         ],
         "y": {
          "bdata": "AAAAAAAAAAEAAAAAAAAAAAAAAAAA",
          "dtype": "i1"
         }
        }
       ],
       "layout": {
        "barmode": "stack",
        "legend": {
         "title": {
          "text": "Especie"
         }
        },
        "template": {
         "data": {
          "bar": [
           {
            "error_x": {
             "color": "#2a3f5f"
            },
            "error_y": {
             "color": "#2a3f5f"
            },
            "marker": {
             "line": {
              "color": "#E5ECF6",
              "width": 0.5
             },
             "pattern": {
              "fillmode": "overlay",
              "size": 10,
              "solidity": 0.2
             }
            },
            "type": "bar"
           }
          ],
          "barpolar": [
           {
            "marker": {
             "line": {
              "color": "#E5ECF6",
              "width": 0.5
             },
             "pattern": {
              "fillmode": "overlay",
              "size": 10,
              "solidity": 0.2
             }
            },
            "type": "barpolar"
           }
          ],
          "carpet": [
           {
            "aaxis": {
             "endlinecolor": "#2a3f5f",
             "gridcolor": "white",
             "linecolor": "white",
             "minorgridcolor": "white",
             "startlinecolor": "#2a3f5f"
            },
            "baxis": {
             "endlinecolor": "#2a3f5f",
             "gridcolor": "white",
             "linecolor": "white",
             "minorgridcolor": "white",
             "startlinecolor": "#2a3f5f"
            },
            "type": "carpet"
           }
          ],
          "choropleth": [
           {
            "colorbar": {
             "outlinewidth": 0,
             "ticks": ""
            },
            "type": "choropleth"
           }
          ],
          "contour": [
           {
            "colorbar": {
             "outlinewidth": 0,
             "ticks": ""
            },
            "colorscale": [
             [
              0,
              "#0d0887"
             ],
             [
              0.1111111111111111,
              "#46039f"
             ],
             [
              0.2222222222222222,
              "#7201a8"
             ],
             [
              0.3333333333333333,
              "#9c179e"
             ],
             [
              0.4444444444444444,
              "#bd3786"
             ],
             [
              0.5555555555555556,
              "#d8576b"
             ],
             [
              0.6666666666666666,
              "#ed7953"
             ],
             [
              0.7777777777777778,
              "#fb9f3a"
             ],
             [
              0.8888888888888888,
              "#fdca26"
             ],
             [
              1,
              "#f0f921"
             ]
            ],
            "type": "contour"
           }
          ],
          "contourcarpet": [
           {
            "colorbar": {
             "outlinewidth": 0,
             "ticks": ""
            },
            "type": "contourcarpet"
           }
          ],
          "heatmap": [
           {
            "colorbar": {
             "outlinewidth": 0,
             "ticks": ""
            },
            "colorscale": [
             [
              0,
              "#0d0887"
             ],
             [
              0.1111111111111111,
              "#46039f"
             ],
             [
              0.2222222222222222,
              "#7201a8"
             ],
             [
              0.3333333333333333,
              "#9c179e"
             ],
             [
              0.4444444444444444,
              "#bd3786"
             ],
             [
              0.5555555555555556,
              "#d8576b"
             ],
             [
              0.6666666666666666,
              "#ed7953"
             ],
             [
              0.7777777777777778,
              "#fb9f3a"
             ],
             [
              0.8888888888888888,
              "#fdca26"
             ],
             [
              1,
              "#f0f921"
             ]
            ],
            "type": "heatmap"
           }
          ],
          "histogram": [
           {
            "marker": {
             "pattern": {
              "fillmode": "overlay",
              "size": 10,
              "solidity": 0.2
             }
            },
            "type": "histogram"
           }
          ],
          "histogram2d": [
           {
            "colorbar": {
             "outlinewidth": 0,
             "ticks": ""
            },
            "colorscale": [
             [
              0,
              "#0d0887"
             ],
             [
              0.1111111111111111,
              "#46039f"
             ],
             [
              0.2222222222222222,
              "#7201a8"
             ],
             [
              0.3333333333333333,
              "#9c179e"
             ],
             [
              0.4444444444444444,
              "#bd3786"
             ],
             [
              0.5555555555555556,
              "#d8576b"
             ],
             [
              0.6666666666666666,
              "#ed7953"
             ],
             [
              0.7777777777777778,
              "#fb9f3a"
             ],
             [
              0.8888888888888888,
              "#fdca26"
             ],
             [
              1,
              "#f0f921"
             ]
            ],
            "type": "histogram2d"
           }
          ],
          "histogram2dcontour": [
           {
            "colorbar": {
             "outlinewidth": 0,
             "ticks": ""
            },
            "colorscale": [
             [
              0,
              "#0d0887"
             ],
             [
              0.1111111111111111,
              "#46039f"
             ],
             [
              0.2222222222222222,
              "#7201a8"
             ],
             [
              0.3333333333333333,
              "#9c179e"
             ],
             [
              0.4444444444444444,
              "#bd3786"
             ],
             [
              0.5555555555555556,
              "#d8576b"
             ],
             [
              0.6666666666666666,
              "#ed7953"
             ],
             [
              0.7777777777777778,
              "#fb9f3a"
             ],
             [
              0.8888888888888888,
              "#fdca26"
             ],
             [
              1,
              "#f0f921"
             ]
            ],
            "type": "histogram2dcontour"
           }
          ],
          "mesh3d": [
           {
            "colorbar": {
             "outlinewidth": 0,
             "ticks": ""
            },
            "type": "mesh3d"
           }
          ],
          "parcoords": [
           {
            "line": {
             "colorbar": {
              "outlinewidth": 0,
              "ticks": ""
             }
            },
            "type": "parcoords"
           }
          ],
          "pie": [
           {
            "automargin": true,
            "type": "pie"
           }
          ],
          "scatter": [
           {
            "fillpattern": {
             "fillmode": "overlay",
             "size": 10,
             "solidity": 0.2
            },
            "type": "scatter"
           }
          ],
          "scatter3d": [
           {
            "line": {
             "colorbar": {
              "outlinewidth": 0,
              "ticks": ""
             }
            },
            "marker": {
             "colorbar": {
              "outlinewidth": 0,
              "ticks": ""
             }
            },
            "type": "scatter3d"
           }
          ],
          "scattercarpet": [
           {
            "marker": {
             "colorbar": {
              "outlinewidth": 0,
              "ticks": ""
             }
            },
            "type": "scattercarpet"
           }
          ],
          "scattergeo": [
           {
            "marker": {
             "colorbar": {
              "outlinewidth": 0,
              "ticks": ""
             }
            },
            "type": "scattergeo"
           }
          ],
          "scattergl": [
           {
            "marker": {
             "colorbar": {
              "outlinewidth": 0,
              "ticks": ""
             }
            },
            "type": "scattergl"
           }
          ],
          "scattermap": [
           {
            "marker": {
             "colorbar": {
              "outlinewidth": 0,
              "ticks": ""
             }
            },
            "type": "scattermap"
           }
          ],
          "scattermapbox": [
           {
            "marker": {
             "colorbar": {
              "outlinewidth": 0,
              "ticks": ""
             }
            },
            "type": "scattermapbox"
           }
          ],
          "scatterpolar": [
           {
            "marker": {
             "colorbar": {
              "outlinewidth": 0,
              "ticks": ""
             }
            },
            "type": "scatterpolar"
           }
          ],
          "scatterpolargl": [
           {
            "marker": {
             "colorbar": {
              "outlinewidth": 0,
              "ticks": ""
             }
            },
            "type": "scatterpolargl"
           }
          ],
          "scatterternary": [
           {
            "marker": {
             "colorbar": {
              "outlinewidth": 0,
              "ticks": ""
             }
            },
            "type": "scatterternary"
           }
          ],
          "surface": [
           {
            "colorbar": {
             "outlinewidth": 0,
             "ticks": ""
            },
            "colorscale": [
             [
              0,
              "#0d0887"
             ],
             [
              0.1111111111111111,
              "#46039f"
             ],
             [
              0.2222222222222222,
              "#7201a8"
             ],
             [
              0.3333333333333333,
              "#9c179e"
             ],
             [
              0.4444444444444444,
              "#bd3786"
             ],
             [
              0.5555555555555556,
              "#d8576b"
             ],
             [
              0.6666666666666666,
              "#ed7953"
             ],
             [
              0.7777777777777778,
              "#fb9f3a"
             ],
             [
              0.8888888888888888,
              "#fdca26"
             ],
             [
              1,
              "#f0f921"
             ]
            ],
            "type": "surface"
           }
          ],
          "table": [
           {
            "cells": {
             "fill": {
              "color": "#EBF0F8"
             },
             "line": {
              "color": "white"
             }
            },
            "header": {
             "fill": {
              "color": "#C8D4E3"
             },
             "line": {
              "color": "white"
             }
            },
            "type": "table"
           }
          ]
         },
         "layout": {
          "annotationdefaults": {
           "arrowcolor": "#2a3f5f",
           "arrowhead": 0,
           "arrowwidth": 1
          },
          "autotypenumbers": "strict",
          "coloraxis": {
           "colorbar": {
            "outlinewidth": 0,
            "ticks": ""
           }
          },
          "colorscale": {
           "diverging": [
            [
             0,
             "#8e0152"
            ],
            [
             0.1,
             "#c51b7d"
            ],
            [
             0.2,
             "#de77ae"
            ],
            [
             0.3,
             "#f1b6da"
            ],
            [
             0.4,
             "#fde0ef"
            ],
            [
             0.5,
             "#f7f7f7"
            ],
            [
             0.6,
             "#e6f5d0"
            ],
            [
             0.7,
             "#b8e186"
            ],
            [
             0.8,
             "#7fbc41"
            ],
            [
             0.9,
             "#4d9221"
            ],
            [
             1,
             "#276419"
            ]
           ],
           "sequential": [
            [
             0,
             "#0d0887"
            ],
            [
             0.1111111111111111,
             "#46039f"
            ],
            [
             0.2222222222222222,
             "#7201a8"
            ],
            [
             0.3333333333333333,
             "#9c179e"
            ],
            [
             0.4444444444444444,
             "#bd3786"
            ],
            [
             0.5555555555555556,
             "#d8576b"
            ],
            [
             0.6666666666666666,
             "#ed7953"
            ],
            [
             0.7777777777777778,
             "#fb9f3a"
            ],
            [
             0.8888888888888888,
             "#fdca26"
            ],
            [
             1,
             "#f0f921"
            ]
           ],
           "sequentialminus": [
            [
             0,
             "#0d0887"
            ],
            [
             0.1111111111111111,
             "#46039f"
            ],
            [
             0.2222222222222222,
             "#7201a8"
            ],
            [
             0.3333333333333333,
             "#9c179e"
            ],
            [
             0.4444444444444444,
             "#bd3786"
            ],
            [
             0.5555555555555556,
             "#d8576b"
            ],
            [
             0.6666666666666666,
             "#ed7953"
            ],
            [
             0.7777777777777778,
             "#fb9f3a"
            ],
            [
             0.8888888888888888,
             "#fdca26"
            ],
            [
             1,
             "#f0f921"
            ]
           ]
          },
          "colorway": [
           "#636efa",
           "#EF553B",
           "#00cc96",
           "#ab63fa",
           "#FFA15A",
           "#19d3f3",
           "#FF6692",
           "#B6E880",
           "#FF97FF",
           "#FECB52"
          ],
          "font": {
           "color": "#2a3f5f"
          },
          "geo": {
           "bgcolor": "white",
           "lakecolor": "white",
           "landcolor": "#E5ECF6",
           "showlakes": true,
           "showland": true,
           "subunitcolor": "white"
          },
          "hoverlabel": {
           "align": "left"
          },
          "hovermode": "closest",
          "mapbox": {
           "style": "light"
          },
          "paper_bgcolor": "white",
          "plot_bgcolor": "#E5ECF6",
          "polar": {
           "angularaxis": {
            "gridcolor": "white",
            "linecolor": "white",
            "ticks": ""
           },
           "bgcolor": "#E5ECF6",
           "radialaxis": {
            "gridcolor": "white",
            "linecolor": "white",
            "ticks": ""
           }
          },
          "scene": {
           "xaxis": {
            "backgroundcolor": "#E5ECF6",
            "gridcolor": "white",
            "gridwidth": 2,
            "linecolor": "white",
            "showbackground": true,
            "ticks": "",
            "zerolinecolor": "white"
           },
           "yaxis": {
            "backgroundcolor": "#E5ECF6",
            "gridcolor": "white",
            "gridwidth": 2,
            "linecolor": "white",
            "showbackground": true,
            "ticks": "",
            "zerolinecolor": "white"
           },
           "zaxis": {
            "backgroundcolor": "#E5ECF6",
            "gridcolor": "white",
            "gridwidth": 2,
            "linecolor": "white",
            "showbackground": true,
            "ticks": "",
            "zerolinecolor": "white"
           }
          },
          "shapedefaults": {
           "line": {
            "color": "#2a3f5f"
           }
          },
          "ternary": {
           "aaxis": {
            "gridcolor": "white",
            "linecolor": "white",
            "ticks": ""
           },
           "baxis": {
            "gridcolor": "white",
            "linecolor": "white",
            "ticks": ""
           },
           "bgcolor": "#E5ECF6",
           "caxis": {
            "gridcolor": "white",
            "linecolor": "white",
            "ticks": ""
           }
          },
          "title": {
           "x": 0.05
          },
          "xaxis": {
           "automargin": true,
           "gridcolor": "white",
           "linecolor": "white",
           "ticks": "",
           "title": {
            "standoff": 15
           },
           "zerolinecolor": "white",
           "zerolinewidth": 2
          },
          "yaxis": {
           "automargin": true,
           "gridcolor": "white",
           "linecolor": "white",
           "ticks": "",
           "title": {
            "standoff": 15
           },
           "zerolinecolor": "white",
           "zerolinewidth": 2
          }
         }
        },
        "title": {
         "text": "Detecciones por Especie y Sitio"
        },
        "xaxis": {
         "categoryarray": [
          "P01_SMM09721",
          "P03_SMM09499",
          "P19_SMM09396",
          "P13_SMM09539",
          "P02_SMM09261",
          "P20_SMM09279",
          "P04_SMM09557",
          "P39_SMM09309",
          "P23_SMM09360",
          "P34_SMM09565",
          "P36_SMM09520",
          "P37_SMM09595",
          "P07_SMM09344",
          "P43_SMM09315",
          "P41_SMM09350",
          "P40_SMM09245",
          "P16_SMM09317",
          "P15_SMM09353",
          "P26_SMM09319",
          "P09_SMM09311",
          "P35_SMM09330"
         ],
         "categoryorder": "array",
         "tickangle": 45,
         "title": {
          "text": "Sitio"
         }
        },
        "yaxis": {
         "title": {
          "text": "Número de Detecciones"
         }
        }
       }
      }
     },
     "metadata": {},
     "output_type": "display_data"
    }
   ],
   "source": [
    "import pandas as pd\n",
    "import plotly.graph_objects as go\n",
    "\n",
    "# Conteo de detecciones por sitio y especie\n",
    "counts = df.groupby(['site', 'species']).size().reset_index(name='detecciones')\n",
    "\n",
    "# Ordenar sitios según suma total de detecciones (descendente)\n",
    "site_order = counts.groupby('site')['detecciones'].sum().sort_values(ascending=False).index.tolist()\n",
    "\n",
    "# Lista de especies únicas (orden original o alfabético)\n",
    "species_unique = counts['species'].unique()\n",
    "\n",
    "fig = go.Figure()\n",
    "\n",
    "for sp in species_unique:\n",
    "    sp_data = counts[counts['species'] == sp].set_index('site').reindex(site_order, fill_value=0).reset_index()\n",
    "    fig.add_trace(go.Bar(\n",
    "        x=sp_data['site'],\n",
    "        y=sp_data['detecciones'],\n",
    "        name=sp,\n",
    "        # Aquí no se asigna marker_color para usar colores predeterminados\n",
    "        hovertemplate='Sitio: %{x}<br>Especie: '+sp+'<br>Detecciones: %{y}<extra></extra>'\n",
    "    ))\n",
    "\n",
    "fig.update_layout(\n",
    "    barmode='stack',\n",
    "    xaxis=dict(\n",
    "        categoryorder='array',\n",
    "        categoryarray=site_order,\n",
    "        tickangle=45,\n",
    "        title='Sitio'\n",
    "    ),\n",
    "    yaxis=dict(title='Número de Detecciones'),\n",
    "    legend_title_text='Especie',\n",
    "    title='Detecciones por Especie y Sitio'\n",
    ")\n",
    "\n",
    "fig.show()\n",
    "\n"
   ]
  },
  {
   "cell_type": "markdown",
   "id": "abe0c5ef",
   "metadata": {},
   "source": [
    "## Implementación Machine Learning\n",
    "Para esta sección se utilizarán los registros de las especies que representan en conjunto el 85% de las detecciones totales. Estas especies son: Scelorchilus rubecula (50%), Sephanoides sephaniodes (23%) y Aphrastura spinicauda (12%).\n",
    "Mediante el uso de Árboles de Decisiones se evaluará si exsiten efectos de las horas y/o sitios en la detección de estas especie."
   ]
  },
  {
   "cell_type": "code",
   "execution_count": 86,
   "id": "81eb6f64",
   "metadata": {},
   "outputs": [
    {
     "name": "stderr",
     "output_type": "stream",
     "text": [
      "/tmp/ipykernel_40243/1543516471.py:14: SettingWithCopyWarning:\n",
      "\n",
      "\n",
      "A value is trying to be set on a copy of a slice from a DataFrame.\n",
      "Try using .loc[row_indexer,col_indexer] = value instead\n",
      "\n",
      "See the caveats in the documentation: https://pandas.pydata.org/pandas-docs/stable/user_guide/indexing.html#returning-a-view-versus-a-copy\n",
      "\n",
      "/tmp/ipykernel_40243/1543516471.py:18: SettingWithCopyWarning:\n",
      "\n",
      "\n",
      "A value is trying to be set on a copy of a slice from a DataFrame.\n",
      "Try using .loc[row_indexer,col_indexer] = value instead\n",
      "\n",
      "See the caveats in the documentation: https://pandas.pydata.org/pandas-docs/stable/user_guide/indexing.html#returning-a-view-versus-a-copy\n",
      "\n"
     ]
    },
    {
     "data": {
      "text/html": [
       "<div>\n",
       "<style scoped>\n",
       "    .dataframe tbody tr th:only-of-type {\n",
       "        vertical-align: middle;\n",
       "    }\n",
       "\n",
       "    .dataframe tbody tr th {\n",
       "        vertical-align: top;\n",
       "    }\n",
       "\n",
       "    .dataframe thead th {\n",
       "        text-align: right;\n",
       "    }\n",
       "</style>\n",
       "<table border=\"1\" class=\"dataframe\">\n",
       "  <thead>\n",
       "    <tr style=\"text-align: right;\">\n",
       "      <th></th>\n",
       "      <th>id</th>\n",
       "      <th>recording</th>\n",
       "      <th>site</th>\n",
       "      <th>year</th>\n",
       "      <th>month</th>\n",
       "      <th>day</th>\n",
       "      <th>hour</th>\n",
       "      <th>minute</th>\n",
       "      <th>species</th>\n",
       "      <th>songtype</th>\n",
       "      <th>...</th>\n",
       "      <th>x2</th>\n",
       "      <th>y1</th>\n",
       "      <th>y2</th>\n",
       "      <th>frequency</th>\n",
       "      <th>validated</th>\n",
       "      <th>url</th>\n",
       "      <th>score</th>\n",
       "      <th>site_id</th>\n",
       "      <th>presencia</th>\n",
       "      <th>datetime</th>\n",
       "    </tr>\n",
       "  </thead>\n",
       "  <tbody>\n",
       "    <tr>\n",
       "      <th>284</th>\n",
       "      <td>758768802</td>\n",
       "      <td>SMM09344_20231013_191000.wav</td>\n",
       "      <td>P07_SMM09344</td>\n",
       "      <td>2023</td>\n",
       "      <td>10</td>\n",
       "      <td>13</td>\n",
       "      <td>22</td>\n",
       "      <td>10</td>\n",
       "      <td>Scelorchilus rubecula</td>\n",
       "      <td>Common Song</td>\n",
       "      <td>...</td>\n",
       "      <td>6.645333</td>\n",
       "      <td>656.25</td>\n",
       "      <td>2062.5</td>\n",
       "      <td>12000</td>\n",
       "      <td>present</td>\n",
       "      <td>https://rfcx-streams-production.s3.eu-west-1.a...</td>\n",
       "      <td>0.427360</td>\n",
       "      <td>53982</td>\n",
       "      <td>1</td>\n",
       "      <td>2023-10-13 22:10:00</td>\n",
       "    </tr>\n",
       "    <tr>\n",
       "      <th>285</th>\n",
       "      <td>758768803</td>\n",
       "      <td>SMM09344_20231013_195000.wav</td>\n",
       "      <td>P07_SMM09344</td>\n",
       "      <td>2023</td>\n",
       "      <td>10</td>\n",
       "      <td>13</td>\n",
       "      <td>22</td>\n",
       "      <td>50</td>\n",
       "      <td>Scelorchilus rubecula</td>\n",
       "      <td>Common Song</td>\n",
       "      <td>...</td>\n",
       "      <td>43.840000</td>\n",
       "      <td>656.25</td>\n",
       "      <td>2062.5</td>\n",
       "      <td>12000</td>\n",
       "      <td>present</td>\n",
       "      <td>https://rfcx-streams-production.s3.eu-west-1.a...</td>\n",
       "      <td>0.521458</td>\n",
       "      <td>53982</td>\n",
       "      <td>1</td>\n",
       "      <td>2023-10-13 22:50:00</td>\n",
       "    </tr>\n",
       "    <tr>\n",
       "      <th>286</th>\n",
       "      <td>758768804</td>\n",
       "      <td>SMM09344_20231013_200000.wav</td>\n",
       "      <td>P07_SMM09344</td>\n",
       "      <td>2023</td>\n",
       "      <td>10</td>\n",
       "      <td>13</td>\n",
       "      <td>23</td>\n",
       "      <td>0</td>\n",
       "      <td>Scelorchilus rubecula</td>\n",
       "      <td>Common Song</td>\n",
       "      <td>...</td>\n",
       "      <td>3.893333</td>\n",
       "      <td>656.25</td>\n",
       "      <td>2062.5</td>\n",
       "      <td>12000</td>\n",
       "      <td>present</td>\n",
       "      <td>https://rfcx-streams-production.s3.eu-west-1.a...</td>\n",
       "      <td>0.599815</td>\n",
       "      <td>53982</td>\n",
       "      <td>1</td>\n",
       "      <td>2023-10-13 23:00:00</td>\n",
       "    </tr>\n",
       "    <tr>\n",
       "      <th>287</th>\n",
       "      <td>758768805</td>\n",
       "      <td>SMM09344_20231013_170000.wav</td>\n",
       "      <td>P07_SMM09344</td>\n",
       "      <td>2023</td>\n",
       "      <td>10</td>\n",
       "      <td>13</td>\n",
       "      <td>20</td>\n",
       "      <td>0</td>\n",
       "      <td>Scelorchilus rubecula</td>\n",
       "      <td>Common Song</td>\n",
       "      <td>...</td>\n",
       "      <td>3.424000</td>\n",
       "      <td>656.25</td>\n",
       "      <td>2062.5</td>\n",
       "      <td>12000</td>\n",
       "      <td>present</td>\n",
       "      <td>https://rfcx-streams-production.s3.eu-west-1.a...</td>\n",
       "      <td>0.508903</td>\n",
       "      <td>53982</td>\n",
       "      <td>1</td>\n",
       "      <td>2023-10-13 20:00:00</td>\n",
       "    </tr>\n",
       "    <tr>\n",
       "      <th>288</th>\n",
       "      <td>758768806</td>\n",
       "      <td>SMM09344_20231013_162000.wav</td>\n",
       "      <td>P07_SMM09344</td>\n",
       "      <td>2023</td>\n",
       "      <td>10</td>\n",
       "      <td>13</td>\n",
       "      <td>19</td>\n",
       "      <td>20</td>\n",
       "      <td>Scelorchilus rubecula</td>\n",
       "      <td>Common Song</td>\n",
       "      <td>...</td>\n",
       "      <td>3.850667</td>\n",
       "      <td>656.25</td>\n",
       "      <td>2062.5</td>\n",
       "      <td>12000</td>\n",
       "      <td>present</td>\n",
       "      <td>https://rfcx-streams-production.s3.eu-west-1.a...</td>\n",
       "      <td>0.423369</td>\n",
       "      <td>53982</td>\n",
       "      <td>1</td>\n",
       "      <td>2023-10-13 19:20:00</td>\n",
       "    </tr>\n",
       "    <tr>\n",
       "      <th>...</th>\n",
       "      <td>...</td>\n",
       "      <td>...</td>\n",
       "      <td>...</td>\n",
       "      <td>...</td>\n",
       "      <td>...</td>\n",
       "      <td>...</td>\n",
       "      <td>...</td>\n",
       "      <td>...</td>\n",
       "      <td>...</td>\n",
       "      <td>...</td>\n",
       "      <td>...</td>\n",
       "      <td>...</td>\n",
       "      <td>...</td>\n",
       "      <td>...</td>\n",
       "      <td>...</td>\n",
       "      <td>...</td>\n",
       "      <td>...</td>\n",
       "      <td>...</td>\n",
       "      <td>...</td>\n",
       "      <td>...</td>\n",
       "      <td>...</td>\n",
       "    </tr>\n",
       "    <tr>\n",
       "      <th>22147</th>\n",
       "      <td>627472496</td>\n",
       "      <td>SMM09261_20230930_075000.wav</td>\n",
       "      <td>P02_SMM09261</td>\n",
       "      <td>2023</td>\n",
       "      <td>9</td>\n",
       "      <td>30</td>\n",
       "      <td>9</td>\n",
       "      <td>50</td>\n",
       "      <td>Aphrastura spinicauda</td>\n",
       "      <td>Common Song</td>\n",
       "      <td>...</td>\n",
       "      <td>12.832000</td>\n",
       "      <td>3937.50</td>\n",
       "      <td>6187.5</td>\n",
       "      <td>12000</td>\n",
       "      <td>present</td>\n",
       "      <td>https://rfcx-streams-production.s3.eu-west-1.a...</td>\n",
       "      <td>0.371336</td>\n",
       "      <td>49108</td>\n",
       "      <td>1</td>\n",
       "      <td>2023-09-30 09:50:00</td>\n",
       "    </tr>\n",
       "    <tr>\n",
       "      <th>22148</th>\n",
       "      <td>627472497</td>\n",
       "      <td>SMM09261_20230930_093500.wav</td>\n",
       "      <td>P02_SMM09261</td>\n",
       "      <td>2023</td>\n",
       "      <td>9</td>\n",
       "      <td>30</td>\n",
       "      <td>11</td>\n",
       "      <td>35</td>\n",
       "      <td>Aphrastura spinicauda</td>\n",
       "      <td>Common Song</td>\n",
       "      <td>...</td>\n",
       "      <td>37.472000</td>\n",
       "      <td>3937.50</td>\n",
       "      <td>6187.5</td>\n",
       "      <td>12000</td>\n",
       "      <td>present</td>\n",
       "      <td>https://rfcx-streams-production.s3.eu-west-1.a...</td>\n",
       "      <td>0.334635</td>\n",
       "      <td>49108</td>\n",
       "      <td>1</td>\n",
       "      <td>2023-09-30 11:35:00</td>\n",
       "    </tr>\n",
       "    <tr>\n",
       "      <th>22149</th>\n",
       "      <td>627472499</td>\n",
       "      <td>SMM09261_20230930_082000.wav</td>\n",
       "      <td>P02_SMM09261</td>\n",
       "      <td>2023</td>\n",
       "      <td>9</td>\n",
       "      <td>30</td>\n",
       "      <td>10</td>\n",
       "      <td>20</td>\n",
       "      <td>Aphrastura spinicauda</td>\n",
       "      <td>Common Song</td>\n",
       "      <td>...</td>\n",
       "      <td>37.066667</td>\n",
       "      <td>3937.50</td>\n",
       "      <td>6187.5</td>\n",
       "      <td>12000</td>\n",
       "      <td>present</td>\n",
       "      <td>https://rfcx-streams-production.s3.eu-west-1.a...</td>\n",
       "      <td>0.306531</td>\n",
       "      <td>49108</td>\n",
       "      <td>1</td>\n",
       "      <td>2023-09-30 10:20:00</td>\n",
       "    </tr>\n",
       "    <tr>\n",
       "      <th>22150</th>\n",
       "      <td>627472500</td>\n",
       "      <td>SMM09261_20230929_071500.wav</td>\n",
       "      <td>P02_SMM09261</td>\n",
       "      <td>2023</td>\n",
       "      <td>9</td>\n",
       "      <td>29</td>\n",
       "      <td>9</td>\n",
       "      <td>15</td>\n",
       "      <td>Aphrastura spinicauda</td>\n",
       "      <td>Common Song</td>\n",
       "      <td>...</td>\n",
       "      <td>51.701333</td>\n",
       "      <td>3937.50</td>\n",
       "      <td>6187.5</td>\n",
       "      <td>12000</td>\n",
       "      <td>present</td>\n",
       "      <td>https://rfcx-streams-production.s3.eu-west-1.a...</td>\n",
       "      <td>0.354636</td>\n",
       "      <td>49108</td>\n",
       "      <td>1</td>\n",
       "      <td>2023-09-29 09:15:00</td>\n",
       "    </tr>\n",
       "    <tr>\n",
       "      <th>22151</th>\n",
       "      <td>627472501</td>\n",
       "      <td>SMM09261_20230929_190500.wav</td>\n",
       "      <td>P02_SMM09261</td>\n",
       "      <td>2023</td>\n",
       "      <td>9</td>\n",
       "      <td>29</td>\n",
       "      <td>21</td>\n",
       "      <td>5</td>\n",
       "      <td>Aphrastura spinicauda</td>\n",
       "      <td>Common Song</td>\n",
       "      <td>...</td>\n",
       "      <td>56.426667</td>\n",
       "      <td>3937.50</td>\n",
       "      <td>6187.5</td>\n",
       "      <td>12000</td>\n",
       "      <td>present</td>\n",
       "      <td>https://rfcx-streams-production.s3.eu-west-1.a...</td>\n",
       "      <td>0.339043</td>\n",
       "      <td>49108</td>\n",
       "      <td>1</td>\n",
       "      <td>2023-09-29 21:05:00</td>\n",
       "    </tr>\n",
       "  </tbody>\n",
       "</table>\n",
       "<p>18163 rows × 21 columns</p>\n",
       "</div>"
      ],
      "text/plain": [
       "              id                     recording          site  year  month  \\\n",
       "284    758768802  SMM09344_20231013_191000.wav  P07_SMM09344  2023     10   \n",
       "285    758768803  SMM09344_20231013_195000.wav  P07_SMM09344  2023     10   \n",
       "286    758768804  SMM09344_20231013_200000.wav  P07_SMM09344  2023     10   \n",
       "287    758768805  SMM09344_20231013_170000.wav  P07_SMM09344  2023     10   \n",
       "288    758768806  SMM09344_20231013_162000.wav  P07_SMM09344  2023     10   \n",
       "...          ...                           ...           ...   ...    ...   \n",
       "22147  627472496  SMM09261_20230930_075000.wav  P02_SMM09261  2023      9   \n",
       "22148  627472497  SMM09261_20230930_093500.wav  P02_SMM09261  2023      9   \n",
       "22149  627472499  SMM09261_20230930_082000.wav  P02_SMM09261  2023      9   \n",
       "22150  627472500  SMM09261_20230929_071500.wav  P02_SMM09261  2023      9   \n",
       "22151  627472501  SMM09261_20230929_190500.wav  P02_SMM09261  2023      9   \n",
       "\n",
       "       day  hour  minute                species     songtype  ...         x2  \\\n",
       "284     13    22      10  Scelorchilus rubecula  Common Song  ...   6.645333   \n",
       "285     13    22      50  Scelorchilus rubecula  Common Song  ...  43.840000   \n",
       "286     13    23       0  Scelorchilus rubecula  Common Song  ...   3.893333   \n",
       "287     13    20       0  Scelorchilus rubecula  Common Song  ...   3.424000   \n",
       "288     13    19      20  Scelorchilus rubecula  Common Song  ...   3.850667   \n",
       "...    ...   ...     ...                    ...          ...  ...        ...   \n",
       "22147   30     9      50  Aphrastura spinicauda  Common Song  ...  12.832000   \n",
       "22148   30    11      35  Aphrastura spinicauda  Common Song  ...  37.472000   \n",
       "22149   30    10      20  Aphrastura spinicauda  Common Song  ...  37.066667   \n",
       "22150   29     9      15  Aphrastura spinicauda  Common Song  ...  51.701333   \n",
       "22151   29    21       5  Aphrastura spinicauda  Common Song  ...  56.426667   \n",
       "\n",
       "            y1      y2  frequency  validated  \\\n",
       "284     656.25  2062.5      12000    present   \n",
       "285     656.25  2062.5      12000    present   \n",
       "286     656.25  2062.5      12000    present   \n",
       "287     656.25  2062.5      12000    present   \n",
       "288     656.25  2062.5      12000    present   \n",
       "...        ...     ...        ...        ...   \n",
       "22147  3937.50  6187.5      12000    present   \n",
       "22148  3937.50  6187.5      12000    present   \n",
       "22149  3937.50  6187.5      12000    present   \n",
       "22150  3937.50  6187.5      12000    present   \n",
       "22151  3937.50  6187.5      12000    present   \n",
       "\n",
       "                                                     url     score  site_id  \\\n",
       "284    https://rfcx-streams-production.s3.eu-west-1.a...  0.427360    53982   \n",
       "285    https://rfcx-streams-production.s3.eu-west-1.a...  0.521458    53982   \n",
       "286    https://rfcx-streams-production.s3.eu-west-1.a...  0.599815    53982   \n",
       "287    https://rfcx-streams-production.s3.eu-west-1.a...  0.508903    53982   \n",
       "288    https://rfcx-streams-production.s3.eu-west-1.a...  0.423369    53982   \n",
       "...                                                  ...       ...      ...   \n",
       "22147  https://rfcx-streams-production.s3.eu-west-1.a...  0.371336    49108   \n",
       "22148  https://rfcx-streams-production.s3.eu-west-1.a...  0.334635    49108   \n",
       "22149  https://rfcx-streams-production.s3.eu-west-1.a...  0.306531    49108   \n",
       "22150  https://rfcx-streams-production.s3.eu-west-1.a...  0.354636    49108   \n",
       "22151  https://rfcx-streams-production.s3.eu-west-1.a...  0.339043    49108   \n",
       "\n",
       "       presencia            datetime  \n",
       "284            1 2023-10-13 22:10:00  \n",
       "285            1 2023-10-13 22:50:00  \n",
       "286            1 2023-10-13 23:00:00  \n",
       "287            1 2023-10-13 20:00:00  \n",
       "288            1 2023-10-13 19:20:00  \n",
       "...          ...                 ...  \n",
       "22147          1 2023-09-30 09:50:00  \n",
       "22148          1 2023-09-30 11:35:00  \n",
       "22149          1 2023-09-30 10:20:00  \n",
       "22150          1 2023-09-29 09:15:00  \n",
       "22151          1 2023-09-29 21:05:00  \n",
       "\n",
       "[18163 rows x 21 columns]"
      ]
     },
     "execution_count": 86,
     "metadata": {},
     "output_type": "execute_result"
    }
   ],
   "source": [
    "# Preparar datos\n",
    "\n",
    "import pandas as pd\n",
    "\n",
    "file = '/home/camilo/data-science-lll/figuras_mauro/detecciones.csv'\n",
    "\n",
    "df = pd.read_csv(file)\n",
    "df = df[~df['site'].isin(['P.1078_SMM09333', 'P.209_SMM09576'])]\n",
    "\n",
    "\n",
    "species_filtrar = ['Sephanoides sephaniodes', 'Scelorchilus rubecula', 'Aphrastura spinicauda']\n",
    "\n",
    "df_filtrado = df[df['species'].isin(species_filtrar)]\n",
    "df_filtrado['datetime'] = pd.to_datetime(df_filtrado['datetime'])\n",
    "\n",
    "\n",
    "# Unificar separador en la columna 'site': reemplazar '-' por '_'\n",
    "df_filtrado['site'] = df_filtrado['site'].str.replace('-', '_', regex=False)\n",
    "df_filtrado\n"
   ]
  },
  {
   "cell_type": "code",
   "execution_count": 88,
   "id": "52f1438a",
   "metadata": {},
   "outputs": [
    {
     "name": "stderr",
     "output_type": "stream",
     "text": [
      "/tmp/ipykernel_40243/3383782764.py:5: SettingWithCopyWarning:\n",
      "\n",
      "\n",
      "A value is trying to be set on a copy of a slice from a DataFrame.\n",
      "Try using .loc[row_indexer,col_indexer] = value instead\n",
      "\n",
      "See the caveats in the documentation: https://pandas.pydata.org/pandas-docs/stable/user_guide/indexing.html#returning-a-view-versus-a-copy\n",
      "\n"
     ]
    }
   ],
   "source": [
    "# Extraer el código de sitio\n",
    "\n",
    "import pandas as pd\n",
    "\n",
    "df_filtrado['site_code'] = df_filtrado['site'].str.split('_').str[0]"
   ]
  },
  {
   "cell_type": "code",
   "execution_count": 89,
   "id": "2fbdb310",
   "metadata": {},
   "outputs": [],
   "source": [
    "# Generar todas las combinaciones posibles de sitio y hora\n",
    "\n",
    "import itertools\n",
    "\n",
    "sites = df_filtrado['site_code'].unique()\n",
    "hours = range(24)  # Horas del día de 0 a 23\n",
    "\n",
    "all_combinations = pd.DataFrame(list(itertools.product(sites, hours)), columns=['site_code', 'hour'])"
   ]
  },
  {
   "cell_type": "code",
   "execution_count": 90,
   "id": "704d5f19",
   "metadata": {},
   "outputs": [],
   "source": [
    "# Contar detecciones por sitio y hora para una especie específica\n",
    "\n",
    "## Elegir la especie de interés\n",
    "especie_objetivo = 'Scelorchilus rubecula', \n",
    "\n",
    "## Filtrar solo esa especie\n",
    "df_esp = df_filtrado[df_filtrado['species'] == especie_objetivo]\n",
    "\n",
    "## Contar detecciones por sitio y hora\n",
    "detections = df_esp.groupby(['site_code', 'hour']).size().reset_index(name='count')"
   ]
  },
  {
   "cell_type": "code",
   "execution_count": 91,
   "id": "6992205a",
   "metadata": {},
   "outputs": [],
   "source": [
    "# Unir y rellenar ausencias con ceros\n",
    "\n",
    "df_full = all_combinations.merge(detections, on=['site_code', 'hour'], how='left').fillna(0)\n",
    "df_full['count'] = df_full['count'].astype(int)\n",
    "df_full['presence'] = (df_full['count'] > 0).astype(int)"
   ]
  },
  {
   "cell_type": "code",
   "execution_count": 92,
   "id": "161c4289",
   "metadata": {},
   "outputs": [],
   "source": [
    "# Codificar variables categóricas para el modelo\n",
    "\n",
    "## Codificar site_code como dummies (variables indicadoras)\n",
    "df_model = pd.get_dummies(df_full, columns=['site_code'], drop_first=True)"
   ]
  },
  {
   "cell_type": "code",
   "execution_count": 93,
   "id": "9ffcb296",
   "metadata": {},
   "outputs": [
    {
     "data": {
      "text/html": [
       "<div>\n",
       "<style scoped>\n",
       "    .dataframe tbody tr th:only-of-type {\n",
       "        vertical-align: middle;\n",
       "    }\n",
       "\n",
       "    .dataframe tbody tr th {\n",
       "        vertical-align: top;\n",
       "    }\n",
       "\n",
       "    .dataframe thead th {\n",
       "        text-align: right;\n",
       "    }\n",
       "</style>\n",
       "<table border=\"1\" class=\"dataframe\">\n",
       "  <thead>\n",
       "    <tr style=\"text-align: right;\">\n",
       "      <th></th>\n",
       "      <th>hour</th>\n",
       "      <th>count</th>\n",
       "      <th>presence</th>\n",
       "      <th>site_code_P02</th>\n",
       "      <th>site_code_P03</th>\n",
       "      <th>site_code_P04</th>\n",
       "      <th>site_code_P07</th>\n",
       "      <th>site_code_P09</th>\n",
       "      <th>site_code_P13</th>\n",
       "      <th>site_code_P15</th>\n",
       "      <th>...</th>\n",
       "      <th>site_code_P23</th>\n",
       "      <th>site_code_P26</th>\n",
       "      <th>site_code_P34</th>\n",
       "      <th>site_code_P35</th>\n",
       "      <th>site_code_P36</th>\n",
       "      <th>site_code_P37</th>\n",
       "      <th>site_code_P39</th>\n",
       "      <th>site_code_P40</th>\n",
       "      <th>site_code_P41</th>\n",
       "      <th>site_code_P43</th>\n",
       "    </tr>\n",
       "  </thead>\n",
       "  <tbody>\n",
       "    <tr>\n",
       "      <th>0</th>\n",
       "      <td>0</td>\n",
       "      <td>0</td>\n",
       "      <td>0</td>\n",
       "      <td>False</td>\n",
       "      <td>False</td>\n",
       "      <td>False</td>\n",
       "      <td>True</td>\n",
       "      <td>False</td>\n",
       "      <td>False</td>\n",
       "      <td>False</td>\n",
       "      <td>...</td>\n",
       "      <td>False</td>\n",
       "      <td>False</td>\n",
       "      <td>False</td>\n",
       "      <td>False</td>\n",
       "      <td>False</td>\n",
       "      <td>False</td>\n",
       "      <td>False</td>\n",
       "      <td>False</td>\n",
       "      <td>False</td>\n",
       "      <td>False</td>\n",
       "    </tr>\n",
       "    <tr>\n",
       "      <th>1</th>\n",
       "      <td>1</td>\n",
       "      <td>0</td>\n",
       "      <td>0</td>\n",
       "      <td>False</td>\n",
       "      <td>False</td>\n",
       "      <td>False</td>\n",
       "      <td>True</td>\n",
       "      <td>False</td>\n",
       "      <td>False</td>\n",
       "      <td>False</td>\n",
       "      <td>...</td>\n",
       "      <td>False</td>\n",
       "      <td>False</td>\n",
       "      <td>False</td>\n",
       "      <td>False</td>\n",
       "      <td>False</td>\n",
       "      <td>False</td>\n",
       "      <td>False</td>\n",
       "      <td>False</td>\n",
       "      <td>False</td>\n",
       "      <td>False</td>\n",
       "    </tr>\n",
       "    <tr>\n",
       "      <th>2</th>\n",
       "      <td>2</td>\n",
       "      <td>0</td>\n",
       "      <td>0</td>\n",
       "      <td>False</td>\n",
       "      <td>False</td>\n",
       "      <td>False</td>\n",
       "      <td>True</td>\n",
       "      <td>False</td>\n",
       "      <td>False</td>\n",
       "      <td>False</td>\n",
       "      <td>...</td>\n",
       "      <td>False</td>\n",
       "      <td>False</td>\n",
       "      <td>False</td>\n",
       "      <td>False</td>\n",
       "      <td>False</td>\n",
       "      <td>False</td>\n",
       "      <td>False</td>\n",
       "      <td>False</td>\n",
       "      <td>False</td>\n",
       "      <td>False</td>\n",
       "    </tr>\n",
       "    <tr>\n",
       "      <th>3</th>\n",
       "      <td>3</td>\n",
       "      <td>0</td>\n",
       "      <td>0</td>\n",
       "      <td>False</td>\n",
       "      <td>False</td>\n",
       "      <td>False</td>\n",
       "      <td>True</td>\n",
       "      <td>False</td>\n",
       "      <td>False</td>\n",
       "      <td>False</td>\n",
       "      <td>...</td>\n",
       "      <td>False</td>\n",
       "      <td>False</td>\n",
       "      <td>False</td>\n",
       "      <td>False</td>\n",
       "      <td>False</td>\n",
       "      <td>False</td>\n",
       "      <td>False</td>\n",
       "      <td>False</td>\n",
       "      <td>False</td>\n",
       "      <td>False</td>\n",
       "    </tr>\n",
       "    <tr>\n",
       "      <th>4</th>\n",
       "      <td>4</td>\n",
       "      <td>0</td>\n",
       "      <td>0</td>\n",
       "      <td>False</td>\n",
       "      <td>False</td>\n",
       "      <td>False</td>\n",
       "      <td>True</td>\n",
       "      <td>False</td>\n",
       "      <td>False</td>\n",
       "      <td>False</td>\n",
       "      <td>...</td>\n",
       "      <td>False</td>\n",
       "      <td>False</td>\n",
       "      <td>False</td>\n",
       "      <td>False</td>\n",
       "      <td>False</td>\n",
       "      <td>False</td>\n",
       "      <td>False</td>\n",
       "      <td>False</td>\n",
       "      <td>False</td>\n",
       "      <td>False</td>\n",
       "    </tr>\n",
       "  </tbody>\n",
       "</table>\n",
       "<p>5 rows × 23 columns</p>\n",
       "</div>"
      ],
      "text/plain": [
       "   hour  count  presence  site_code_P02  site_code_P03  site_code_P04  \\\n",
       "0     0      0         0          False          False          False   \n",
       "1     1      0         0          False          False          False   \n",
       "2     2      0         0          False          False          False   \n",
       "3     3      0         0          False          False          False   \n",
       "4     4      0         0          False          False          False   \n",
       "\n",
       "   site_code_P07  site_code_P09  site_code_P13  site_code_P15  ...  \\\n",
       "0           True          False          False          False  ...   \n",
       "1           True          False          False          False  ...   \n",
       "2           True          False          False          False  ...   \n",
       "3           True          False          False          False  ...   \n",
       "4           True          False          False          False  ...   \n",
       "\n",
       "   site_code_P23  site_code_P26  site_code_P34  site_code_P35  site_code_P36  \\\n",
       "0          False          False          False          False          False   \n",
       "1          False          False          False          False          False   \n",
       "2          False          False          False          False          False   \n",
       "3          False          False          False          False          False   \n",
       "4          False          False          False          False          False   \n",
       "\n",
       "   site_code_P37  site_code_P39  site_code_P40  site_code_P41  site_code_P43  \n",
       "0          False          False          False          False          False  \n",
       "1          False          False          False          False          False  \n",
       "2          False          False          False          False          False  \n",
       "3          False          False          False          False          False  \n",
       "4          False          False          False          False          False  \n",
       "\n",
       "[5 rows x 23 columns]"
      ]
     },
     "execution_count": 93,
     "metadata": {},
     "output_type": "execute_result"
    }
   ],
   "source": [
    "\n",
    "df_model.head()"
   ]
  },
  {
   "cell_type": "markdown",
   "id": "97128bbc",
   "metadata": {},
   "source": [
    "## Modelo"
   ]
  },
  {
   "cell_type": "code",
   "execution_count": 94,
   "id": "f3e1f53a",
   "metadata": {},
   "outputs": [
    {
     "name": "stdout",
     "output_type": "stream",
     "text": [
      "Fitting 5 folds for each of 90 candidates, totalling 450 fits\n",
      "Mejores hiperparámetros encontrados:\n",
      "{'criterion': 'gini', 'max_depth': 3, 'min_samples_leaf': 1, 'min_samples_split': 2}\n",
      "Accuracy en test con mejor modelo: 1.000\n",
      "\n",
      "Reporte de clasificación:\n",
      "              precision    recall  f1-score   support\n",
      "\n",
      "           0       1.00      1.00      1.00       101\n",
      "\n",
      "    accuracy                           1.00       101\n",
      "   macro avg       1.00      1.00      1.00       101\n",
      "weighted avg       1.00      1.00      1.00       101\n",
      "\n"
     ]
    },
    {
     "data": {
      "image/png": "[encoded data removed]",
      "text/plain": [
       "<Figure size 2000x1000 with 1 Axes>"
      ]
     },
     "metadata": {},
     "output_type": "display_data"
    }
   ],
   "source": [
    "import matplotlib.pyplot as plt\n",
    "from sklearn.tree import DecisionTreeClassifier, plot_tree\n",
    "from sklearn.model_selection import GridSearchCV, train_test_split\n",
    "from sklearn.metrics import classification_report, accuracy_score\n",
    "\n",
    "# Asumiendo df_model preparado con variables predictoras y target 'presence'\n",
    "X = df_model.drop(columns=['count', 'presence'])\n",
    "y = df_model['presence']\n",
    "\n",
    "# Dividir en train y test\n",
    "X_train, X_test, y_train, y_test = train_test_split(X, y, test_size=0.2, random_state=42)\n",
    "\n",
    "# Definir clasificador base\n",
    "clf = DecisionTreeClassifier(random_state=42)\n",
    "\n",
    "# Definir cuadrícula de hiperparámetros\n",
    "param_grid = {\n",
    "    'criterion': ['gini', 'entropy'],\n",
    "    'max_depth': [3, 5, 7, 10, None],\n",
    "    'min_samples_split': [2, 5, 10],\n",
    "    'min_samples_leaf': [1, 2, 4]\n",
    "}\n",
    "\n",
    "# Configurar GridSearchCV con validación cruzada\n",
    "grid_search = GridSearchCV(\n",
    "    estimator=clf,\n",
    "    param_grid=param_grid,\n",
    "    cv=5,\n",
    "    n_jobs=-1,\n",
    "    scoring='accuracy',\n",
    "    verbose=1\n",
    ")\n",
    "\n",
    "# Ejecutar búsqueda\n",
    "grid_search.fit(X_train, y_train)\n",
    "\n",
    "print(\"Mejores hiperparámetros encontrados:\")\n",
    "print(grid_search.best_params_)\n",
    "\n",
    "# Modelo optimizado\n",
    "best_clf = grid_search.best_estimator_\n",
    "\n",
    "# Evaluar en test\n",
    "y_pred = best_clf.predict(X_test)\n",
    "accuracy = accuracy_score(y_test, y_pred)\n",
    "print(f\"Accuracy en test con mejor modelo: {accuracy:.3f}\")\n",
    "print(\"\\nReporte de clasificación:\")\n",
    "print(classification_report(y_test, y_pred))\n",
    "\n",
    "# Visualizar árbol optimizado\n",
    "plt.figure(figsize=(20,10))\n",
    "plot_tree(\n",
    "    best_clf,\n",
    "    feature_names=X.columns,\n",
    "    class_names=['Ausencia', 'Presencia'],\n",
    "    filled=True,\n",
    "    rounded=True,\n",
    "    fontsize=12\n",
    ")\n",
    "plt.title(f'Árbol de Decisión Optimizado {especie_objetivo}', fontsize=16)\n",
    "plt.show()"
   ]
  }
 ],
 "metadata": {
  "kernelspec": {
   "display_name": "entorno1",
   "language": "python",
   "name": "python3"
  },
  "language_info": {
   "codemirror_mode": {
    "name": "ipython",
    "version": 3
   },
   "file_extension": ".py",
   "mimetype": "text/x-python",
   "name": "python",
   "nbconvert_exporter": "python",
   "pygments_lexer": "ipython3",
   "version": "3.12.3"
  }
 },
 "nbformat": 4,
 "nbformat_minor": 5
}
